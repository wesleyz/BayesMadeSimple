{
 "cells": [
  {
   "cell_type": "markdown",
   "metadata": {},
   "source": [
    "Bayesian Zig Zag\n",
    "===\n",
    "\n",
    "Developing probabilistic models using grid methods and MCMC.\n",
    "\n",
    "Thanks to Chris Fonnesback for his help with this example, and to Colin Carroll, who added features to pymc3 to support some of these examples.\n",
    "\n",
    "To install the most current version of pymc3 from source, run\n",
    "\n",
    "```\n",
    "pip3 install -U git+https://github.com/pymc-devs/pymc3.git\n",
    "```\n",
    "\n",
    "Copyright 2018 Allen Downey\n",
    "\n",
    "MIT License: https://opensource.org/licenses/MIT"
   ]
  },
  {
   "cell_type": "code",
   "execution_count": 43,
   "metadata": {},
   "outputs": [],
   "source": [
    "from __future__ import print_function, division\n",
    "\n",
    "%matplotlib inline\n",
    "%config InteractiveShell.ast_node_interactivity='last_expr_or_assign'\n",
    "\n",
    "import numpy as np\n",
    "import pymc3 as pm\n",
    "\n",
    "import matplotlib.pyplot as plt"
   ]
  },
  {
   "cell_type": "markdown",
   "metadata": {},
   "source": [
    "## Simulating hockey\n",
    "\n",
    "I'll model hockey as a Poisson process, where each team has some long-term average scoring rate, `lambda`, in goals per game.\n",
    "\n",
    "For the first example, we'll assume that `lambda` is known (somehow) to be 2.7.  Since regulation play (as opposed to overtime) is 60 minutes, we can compute the goal scoring rate per minute."
   ]
  },
  {
   "cell_type": "code",
   "execution_count": 44,
   "metadata": {},
   "outputs": [
    {
     "data": {
      "text/plain": [
       "(0.045000000000000005, 0.0020250000000000003)"
      ]
     },
     "execution_count": 44,
     "metadata": {},
     "output_type": "execute_result"
    }
   ],
   "source": [
    "lam_per_game = 2.7\n",
    "min_per_game = 60\n",
    "lam_per_min = lam_per_game / min_per_game\n",
    "lam_per_min, lam_per_min**2"
   ]
  },
  {
   "cell_type": "markdown",
   "metadata": {},
   "source": [
    "If we assume that a goal is equally likely during any minute of the game, and we ignore the possibility of scoring more than one goal in the same minute, we can simulate a game by generating one random value each minute."
   ]
  },
  {
   "cell_type": "code",
   "execution_count": 45,
   "metadata": {},
   "outputs": [
    {
     "data": {
      "text/plain": [
       "array([0.87591458, 0.60865077, 0.21519616, 0.6631327 , 0.55629584,\n",
       "       0.52964216, 0.84107623, 0.56597285, 0.70045616, 0.46889375,\n",
       "       0.32980907, 0.69730439, 0.2421555 , 0.92550352, 0.5934433 ,\n",
       "       0.01400106, 0.39965233, 0.12421442, 0.6761945 , 0.63922244,\n",
       "       0.39728858, 0.40249422, 0.23764522, 0.70581504, 0.79137632,\n",
       "       0.67334738, 0.56253182, 0.96880802, 0.87798523, 0.45870252,\n",
       "       0.08821377, 0.0943319 , 0.04390034, 0.22800724, 0.57889461,\n",
       "       0.6115064 , 0.29902502, 0.52437483, 0.66805489, 0.75416786,\n",
       "       0.56837229, 0.23019085, 0.89470451, 0.69108612, 0.11923699,\n",
       "       0.84310746, 0.2848287 , 0.19541704, 0.41721357, 0.12563305,\n",
       "       0.10491866, 0.13650056, 0.47357976, 0.77513729, 0.63164106,\n",
       "       0.79576815, 0.8998601 , 0.44613117, 0.14814596, 0.476369  ])"
      ]
     },
     "execution_count": 45,
     "metadata": {},
     "output_type": "execute_result"
    }
   ],
   "source": [
    "np.random.random(min_per_game)"
   ]
  },
  {
   "cell_type": "markdown",
   "metadata": {},
   "source": [
    "If the random value is less than `lam_per_min`, that means we score a goal during that minute."
   ]
  },
  {
   "cell_type": "code",
   "execution_count": 46,
   "metadata": {},
   "outputs": [
    {
     "data": {
      "text/plain": [
       "array([False, False, False, False, False, False, False, False, False,\n",
       "       False, False, False, False, False, False, False, False, False,\n",
       "        True, False, False, False, False, False, False, False, False,\n",
       "       False, False, False, False, False, False, False, False, False,\n",
       "       False, False, False, False, False, False, False, False, False,\n",
       "       False, False, False, False, False, False, False, False, False,\n",
       "       False, False, False,  True, False, False])"
      ]
     },
     "execution_count": 46,
     "metadata": {},
     "output_type": "execute_result"
    }
   ],
   "source": [
    "np.random.random(min_per_game) < lam_per_min"
   ]
  },
  {
   "cell_type": "markdown",
   "metadata": {},
   "source": [
    "So we can get the number of goals scored by one team like this:"
   ]
  },
  {
   "cell_type": "code",
   "execution_count": 47,
   "metadata": {},
   "outputs": [
    {
     "data": {
      "text/plain": [
       "2"
      ]
     },
     "execution_count": 47,
     "metadata": {},
     "output_type": "execute_result"
    }
   ],
   "source": [
    "np.sum(np.random.random(min_per_game) < lam_per_min)"
   ]
  },
  {
   "cell_type": "markdown",
   "metadata": {},
   "source": [
    "I'll wrap that in a function."
   ]
  },
  {
   "cell_type": "code",
   "execution_count": 48,
   "metadata": {},
   "outputs": [],
   "source": [
    "def half_game(lam_per_min, min_per_game=60):\n",
    "    return np.sum(np.random.random(min_per_game) < lam_per_min)"
   ]
  },
  {
   "cell_type": "markdown",
   "metadata": {},
   "source": [
    "And simulate 10 games."
   ]
  },
  {
   "cell_type": "code",
   "execution_count": 49,
   "metadata": {},
   "outputs": [
    {
     "data": {
      "text/plain": [
       "[0, 1, 2, 2, 1, 3, 4, 1, 3, 3]"
      ]
     },
     "execution_count": 49,
     "metadata": {},
     "output_type": "execute_result"
    }
   ],
   "source": [
    "size = 10\n",
    "sample = [half_game(lam_per_min) for i in range(size)]"
   ]
  },
  {
   "cell_type": "markdown",
   "metadata": {},
   "source": [
    "If we simulate 1000 games, we can see what the distribution looks like.  The average of this sample should be close to `lam_per_game`."
   ]
  },
  {
   "cell_type": "code",
   "execution_count": 50,
   "metadata": {},
   "outputs": [
    {
     "data": {
      "text/plain": [
       "(2.614, 2.7)"
      ]
     },
     "execution_count": 50,
     "metadata": {},
     "output_type": "execute_result"
    }
   ],
   "source": [
    "size = 1000\n",
    "sample_sim = [half_game(lam_per_min) for i in range(size)]\n",
    "np.mean(sample_sim), lam_per_game"
   ]
  },
  {
   "cell_type": "markdown",
   "metadata": {},
   "source": [
    "## PMFs\n",
    "\n",
    "To visualize distributions, I'll start with a probability mass function (PMF), which I'll implement using a `Counter`.\n",
    "\n"
   ]
  },
  {
   "cell_type": "code",
   "execution_count": 51,
   "metadata": {},
   "outputs": [],
   "source": [
    "from collections import Counter\n",
    "\n",
    "class Pmf(Counter):\n",
    "    \n",
    "    def normalize(self):\n",
    "        \"\"\"Normalizes the PMF so the probabilities add to 1.\"\"\"\n",
    "        total = sum(self.values())\n",
    "        for key in self:\n",
    "            self[key] /= total\n",
    "            \n",
    "    def sorted_items(self):\n",
    "        \"\"\"Returns the outcomes and their probabilities.\"\"\"\n",
    "        return zip(*sorted(self.items()))"
   ]
  },
  {
   "cell_type": "markdown",
   "metadata": {},
   "source": [
    "Here are some functions for plotting PMFs."
   ]
  },
  {
   "cell_type": "code",
   "execution_count": 52,
   "metadata": {},
   "outputs": [],
   "source": [
    "plot_options = dict(linewidth=3, alpha=0.6)\n",
    "\n",
    "def underride(options):\n",
    "    \"\"\"Add key-value pairs to d only if key is not in d.\n",
    "\n",
    "    options: dictionary\n",
    "    \"\"\"\n",
    "\n",
    "    for key, val in plot_options.items():\n",
    "        options.setdefault(key, val)\n",
    "    return options\n",
    "\n",
    "def plot(xs, ys, **options):\n",
    "    \"\"\"Line plot with plot_options.\"\"\"\n",
    "    plt.plot(xs, ys, **underride(options))\n",
    "\n",
    "def bar(xs, ys, **options):\n",
    "    \"\"\"Bar plot with plot_options.\"\"\"\n",
    "    plt.bar(xs, ys, **underride(options))\n",
    "\n",
    "def plot_pmf(sample, **options):\n",
    "    \"\"\"Compute and plot a PMF.\"\"\"\n",
    "    pmf = Pmf(sample)\n",
    "    pmf.normalize()\n",
    "    xs, ps = pmf.sorted_items()\n",
    "    bar(xs, ps, **options)\n",
    "    \n",
    "def pmf_goals():\n",
    "    \"\"\"Decorate the axes.\"\"\"\n",
    "    plt.xlabel('Number of goals')\n",
    "    plt.ylabel('PMF')\n",
    "    plt.title('Distribution of goals scored')\n",
    "    legend()\n",
    "    \n",
    "def legend(**options):\n",
    "    \"\"\"Draw a legend only if there are labeled items.\n",
    "    \"\"\"\n",
    "    ax = plt.gca()\n",
    "    handles, labels = ax.get_legend_handles_labels()\n",
    "    if len(labels):\n",
    "        plt.legend(**options)"
   ]
  },
  {
   "cell_type": "markdown",
   "metadata": {},
   "source": [
    "Here's what the results from the simulation look like."
   ]
  },
  {
   "cell_type": "code",
   "execution_count": 53,
   "metadata": {},
   "outputs": [
    {
     "data": {
      "image/png": "[encoded data removed]",
      "text/plain": [
       "<Figure size 432x288 with 1 Axes>"
      ]
     },
     "metadata": {
      "needs_background": "light"
     },
     "output_type": "display_data"
    }
   ],
   "source": [
    "plot_pmf(sample_sim, label='simulation')\n",
    "pmf_goals()"
   ]
  },
  {
   "cell_type": "markdown",
   "metadata": {},
   "source": [
    "## Analytic distributions\n",
    "\n",
    "For the simulation we just did, we can figure out the distribution analytically: it's a binomial distribution with parameters `n` and `p`, where `n` is the number of minutes and `p` is the probability of scoring a goal during any minute.\n",
    "\n",
    "We can use NumPy to generate a sample from a binomial distribution."
   ]
  },
  {
   "cell_type": "code",
   "execution_count": 54,
   "metadata": {},
   "outputs": [
    {
     "data": {
      "text/plain": [
       "2.678"
      ]
     },
     "execution_count": 54,
     "metadata": {},
     "output_type": "execute_result"
    }
   ],
   "source": [
    "n = min_per_game\n",
    "p = lam_per_min\n",
    "sample_bin = np.random.binomial(n, p, size)\n",
    "np.mean(sample_bin)"
   ]
  },
  {
   "cell_type": "markdown",
   "metadata": {},
   "source": [
    "And confirm that the results are similar to what we got from the model."
   ]
  },
  {
   "cell_type": "code",
   "execution_count": 55,
   "metadata": {},
   "outputs": [
    {
     "data": {
      "image/png": "[encoded data removed]",
      "text/plain": [
       "<Figure size 432x288 with 1 Axes>"
      ]
     },
     "metadata": {
      "needs_background": "light"
     },
     "output_type": "display_data"
    }
   ],
   "source": [
    "plot_pmf(sample_sim, label='simulation')\n",
    "plot_pmf(sample_bin, label='binomial')\n",
    "pmf_goals()"
   ]
  },
  {
   "cell_type": "markdown",
   "metadata": {},
   "source": [
    "But plotting PMFs is a bad way to compare distributions.  It's better to use the cumulative distribution function (CDF)."
   ]
  },
  {
   "cell_type": "code",
   "execution_count": 56,
   "metadata": {},
   "outputs": [],
   "source": [
    "def plot_cdf(sample, **options):\n",
    "    \"\"\"Compute and plot the CDF of a sample.\"\"\"\n",
    "    pmf = Pmf(sample)\n",
    "    xs, freqs = pmf.sorted_items()\n",
    "    ps = np.cumsum(freqs, dtype=np.float)\n",
    "    ps /= ps[-1]\n",
    "    plot(xs, ps, **options)\n",
    "    \n",
    "def cdf_rates():\n",
    "    \"\"\"Decorate the axes.\"\"\"\n",
    "    plt.xlabel('Goal scoring rate (mu)')\n",
    "    plt.ylabel('CDF')\n",
    "    plt.title('Distribution of goal scoring rate')\n",
    "    legend()\n",
    "\n",
    "def cdf_goals():\n",
    "    \"\"\"Decorate the axes.\"\"\"\n",
    "    plt.xlabel('Number of goals')\n",
    "    plt.ylabel('CDF')\n",
    "    plt.title('Distribution of goals scored')\n",
    "    legend()\n",
    "\n",
    "def plot_cdfs(*sample_seq, **options):\n",
    "    \"\"\"Plot multiple CDFs.\"\"\"\n",
    "    for sample in sample_seq:\n",
    "        plot_cdf(sample, **options)\n",
    "    cdf_goals()"
   ]
  },
  {
   "cell_type": "markdown",
   "metadata": {},
   "source": [
    "Now we can compare the results from the simulation and the sample from the biomial distribution."
   ]
  },
  {
   "cell_type": "code",
   "execution_count": 15,
   "metadata": {},
   "outputs": [
    {
     "data": {
      "image/png": "[encoded data removed]",
      "text/plain": [
       "<Figure size 432x288 with 1 Axes>"
      ]
     },
     "metadata": {
      "needs_background": "light"
     },
     "output_type": "display_data"
    }
   ],
   "source": [
    "plot_cdf(sample_sim, label='simulation')\n",
    "plot_cdf(sample_bin, label='binomial')\n",
    "cdf_goals()"
   ]
  },
  {
   "cell_type": "markdown",
   "metadata": {},
   "source": [
    "## Poisson process\n",
    "\n",
    "For large values of `n`, the binomial distribution converges to the Poisson distribution with parameter `mu = n * p`, which is also `mu = lam_per_game`."
   ]
  },
  {
   "cell_type": "code",
   "execution_count": 16,
   "metadata": {},
   "outputs": [
    {
     "data": {
      "text/plain": [
       "2.673"
      ]
     },
     "execution_count": 16,
     "metadata": {},
     "output_type": "execute_result"
    }
   ],
   "source": [
    "mu = lam_per_game\n",
    "sample_poisson = np.random.poisson(mu, size)\n",
    "np.mean(sample_poisson)"
   ]
  },
  {
   "cell_type": "markdown",
   "metadata": {},
   "source": [
    "And we can confirm that the results are consistent with the simulation and the binomial distribution."
   ]
  },
  {
   "cell_type": "code",
   "execution_count": 17,
   "metadata": {},
   "outputs": [
    {
     "data": {
      "image/png": "[encoded data removed]",
      "text/plain": [
       "<Figure size 432x288 with 1 Axes>"
      ]
     },
     "metadata": {
      "needs_background": "light"
     },
     "output_type": "display_data"
    }
   ],
   "source": [
    "plot_cdfs(sample_sim, sample_bin)\n",
    "plot_cdf(sample_poisson, label='poisson', linestyle='dashed')\n",
    "legend()"
   ]
  },
  {
   "cell_type": "markdown",
   "metadata": {},
   "source": [
    "## Warming up PyMC\n",
    "\n",
    "Soon we will want to use `pymc3` to do inference, which is really what it's for.  But just to get warmed up, I will use it to generate a sample from a Poisson distribution."
   ]
  },
  {
   "cell_type": "code",
   "execution_count": 18,
   "metadata": {},
   "outputs": [],
   "source": [
    "model = pm.Model()\n",
    "\n",
    "with model:\n",
    "    goals = pm.Poisson('goals', mu)\n",
    "    trace = pm.sample_prior_predictive(1000)"
   ]
  },
  {
   "cell_type": "code",
   "execution_count": 19,
   "metadata": {},
   "outputs": [
    {
     "data": {
      "text/plain": [
       "1000"
      ]
     },
     "execution_count": 19,
     "metadata": {},
     "output_type": "execute_result"
    }
   ],
   "source": [
    "len(trace['goals'])"
   ]
  },
  {
   "cell_type": "code",
   "execution_count": 20,
   "metadata": {},
   "outputs": [
    {
     "data": {
      "text/plain": [
       "2.701"
      ]
     },
     "execution_count": 20,
     "metadata": {},
     "output_type": "execute_result"
    }
   ],
   "source": [
    "sample_pm = trace['goals']\n",
    "np.mean(sample_pm)"
   ]
  },
  {
   "cell_type": "markdown",
   "metadata": {},
   "source": [
    "This example is like using a cannon to kill a fly.  But it help us learn to use the cannon."
   ]
  },
  {
   "cell_type": "code",
   "execution_count": 21,
   "metadata": {},
   "outputs": [
    {
     "data": {
      "image/png": "[encoded data removed]",
      "text/plain": [
       "<Figure size 432x288 with 1 Axes>"
      ]
     },
     "metadata": {
      "needs_background": "light"
     },
     "output_type": "display_data"
    }
   ],
   "source": [
    "plot_cdfs(sample_sim, sample_bin, sample_poisson)\n",
    "plot_cdf(sample_pm, label='poisson pymc', linestyle='dashed')\n",
    "legend()"
   ]
  },
  {
   "cell_type": "markdown",
   "metadata": {},
   "source": [
    "## Evaluating the Poisson distribution\n",
    "\n",
    "One of the nice things about the Poisson distribution is that we can compute its CDF and PMF analytically.  We can use the CDF to check, one more time, the previous results."
   ]
  },
  {
   "cell_type": "code",
   "execution_count": 22,
   "metadata": {},
   "outputs": [
    {
     "data": {
      "image/png": "[encoded data removed]",
      "text/plain": [
       "<Figure size 432x288 with 1 Axes>"
      ]
     },
     "metadata": {
      "needs_background": "light"
     },
     "output_type": "display_data"
    }
   ],
   "source": [
    "import scipy.stats as st\n",
    "\n",
    "xs = np.arange(11)\n",
    "ps = st.poisson.cdf(xs, mu)\n",
    "\n",
    "plot_cdfs(sample_sim, sample_bin, sample_poisson, sample_pm)\n",
    "plt.plot(xs, ps, label='analytic', linestyle='dashed')\n",
    "legend()"
   ]
  },
  {
   "cell_type": "markdown",
   "metadata": {},
   "source": [
    "And we can use the PMF to compute the probability of any given outcome.  Here's what the analytic PMF looks like:"
   ]
  },
  {
   "cell_type": "code",
   "execution_count": 23,
   "metadata": {},
   "outputs": [
    {
     "data": {
      "image/png": "[encoded data removed]",
      "text/plain": [
       "<Figure size 432x288 with 1 Axes>"
      ]
     },
     "metadata": {
      "needs_background": "light"
     },
     "output_type": "display_data"
    }
   ],
   "source": [
    "xs = np.arange(11)\n",
    "ps = st.poisson.pmf(xs, mu)\n",
    "bar(xs, ps, label='analytic PMF')\n",
    "pmf_goals()"
   ]
  },
  {
   "cell_type": "markdown",
   "metadata": {},
   "source": [
    "And here's a function that compute the probability of scoring a given number of goals in a game, for a known value of `mu`."
   ]
  },
  {
   "cell_type": "code",
   "execution_count": 24,
   "metadata": {},
   "outputs": [],
   "source": [
    "def poisson_likelihood(goals, mu):\n",
    "    \"\"\"Probability of goals given scoring rate.\n",
    "    \n",
    "    goals: observed number of goals (scalar or sequence)\n",
    "    mu: hypothetical goals per game\n",
    "    \n",
    "    returns: probability\n",
    "    \"\"\"\n",
    "    return np.prod(st.poisson.pmf(goals, mu))"
   ]
  },
  {
   "cell_type": "markdown",
   "metadata": {},
   "source": [
    "Here's the probability of scoring 6 goals in a game if the long-term rate is 2.7 goals per game."
   ]
  },
  {
   "cell_type": "code",
   "execution_count": 25,
   "metadata": {},
   "outputs": [
    {
     "data": {
      "text/plain": [
       "0.036162211957124435"
      ]
     },
     "execution_count": 25,
     "metadata": {},
     "output_type": "execute_result"
    }
   ],
   "source": [
    "poisson_likelihood(goals=6, mu=2.7)"
   ]
  },
  {
   "cell_type": "markdown",
   "metadata": {},
   "source": [
    "Here's the probability of scoring 3 goals."
   ]
  },
  {
   "cell_type": "code",
   "execution_count": 26,
   "metadata": {},
   "outputs": [
    {
     "data": {
      "text/plain": [
       "0.22046768454274915"
      ]
     },
     "execution_count": 26,
     "metadata": {},
     "output_type": "execute_result"
    }
   ],
   "source": [
    "poisson_likelihood(goals=3, mu=2.7)"
   ]
  },
  {
   "cell_type": "markdown",
   "metadata": {},
   "source": [
    "This function also works with a sequence of goals, so we can compute the probability of scoring 6 goals in the first game and 3 in the second."
   ]
  },
  {
   "cell_type": "code",
   "execution_count": 27,
   "metadata": {},
   "outputs": [
    {
     "data": {
      "text/plain": [
       "0.008858443486812598"
      ]
     },
     "execution_count": 27,
     "metadata": {},
     "output_type": "execute_result"
    }
   ],
   "source": [
    "poisson_likelihood(goals=[6, 2], mu=2.7)"
   ]
  },
  {
   "cell_type": "markdown",
   "metadata": {},
   "source": [
    "## Bayesian inference with grid approximation\n",
    "\n",
    "Ok, it's finally time to do some inference!  The function we just wrote computes the likelihood of the data, given a hypothetical value of `mu`:\n",
    "\n",
    "$\\mathrm{Prob}~(x ~|~ \\mu)$\n",
    "\n",
    "But what we really want is the distribution of `mu`, given the data:\n",
    "\n",
    "$\\mathrm{Prob}~(\\mu ~|~ x)$\n",
    "\n",
    "If only there were some theorem that relates these probabilities!\n",
    "\n",
    "The following class implements Bayes's theorem."
   ]
  },
  {
   "cell_type": "code",
   "execution_count": 28,
   "metadata": {},
   "outputs": [],
   "source": [
    "class Suite(Pmf):\n",
    "    \"\"\"Represents a set of hypotheses and their probabilities.\"\"\"\n",
    "    \n",
    "    def bayes_update(self, data, like_func):\n",
    "        \"\"\"Perform a Bayesian update.\n",
    "        \n",
    "        data:      some representation of observed data\n",
    "        like_func: likelihood function that takes (data, hypo), where\n",
    "                   hypo is the hypothetical value of some parameter,\n",
    "                   and returns P(data | hypo)\n",
    "        \"\"\"\n",
    "        for hypo in self:\n",
    "            self[hypo] *= like_func(data, hypo)\n",
    "        self.normalize()\n",
    "        \n",
    "    def plot(self, **options):\n",
    "        \"\"\"Plot the hypotheses and their probabilities.\"\"\"\n",
    "        xs, ps = self.sorted_items()\n",
    "        plot(xs, ps, **options)\n",
    "        \n",
    "\n",
    "def pdf_rate():\n",
    "    \"\"\"Decorate the axes.\"\"\"\n",
    "    plt.xlabel('Goals per game (mu)')\n",
    "    plt.ylabel('PDF')\n",
    "    plt.title('Distribution of goal scoring rate')\n",
    "    legend()"
   ]
  },
  {
   "cell_type": "code",
   "execution_count": 105,
   "metadata": {},
   "outputs": [
    {
     "data": {
      "text/html": [
       "<div>\n",
       "<style scoped>\n",
       "    .dataframe tbody tr th:only-of-type {\n",
       "        vertical-align: middle;\n",
       "    }\n",
       "\n",
       "    .dataframe tbody tr th {\n",
       "        vertical-align: top;\n",
       "    }\n",
       "\n",
       "    .dataframe thead th {\n",
       "        text-align: right;\n",
       "    }\n",
       "</style>\n",
       "<table border=\"1\" class=\"dataframe\">\n",
       "  <thead>\n",
       "    <tr style=\"text-align: right;\">\n",
       "      <th></th>\n",
       "      <th>codigo</th>\n",
       "      <th>deferimento</th>\n",
       "      <th>renda_mensal</th>\n",
       "    </tr>\n",
       "  </thead>\n",
       "  <tbody>\n",
       "    <tr>\n",
       "      <th>0</th>\n",
       "      <td>96398</td>\n",
       "      <td>s</td>\n",
       "      <td>2164.46</td>\n",
       "    </tr>\n",
       "    <tr>\n",
       "      <th>1</th>\n",
       "      <td>96398</td>\n",
       "      <td>s</td>\n",
       "      <td>0.00</td>\n",
       "    </tr>\n",
       "    <tr>\n",
       "      <th>2</th>\n",
       "      <td>96398</td>\n",
       "      <td>s</td>\n",
       "      <td>0.00</td>\n",
       "    </tr>\n",
       "    <tr>\n",
       "      <th>3</th>\n",
       "      <td>88410</td>\n",
       "      <td>s</td>\n",
       "      <td>1954.71</td>\n",
       "    </tr>\n",
       "    <tr>\n",
       "      <th>4</th>\n",
       "      <td>88410</td>\n",
       "      <td>s</td>\n",
       "      <td>0.00</td>\n",
       "    </tr>\n",
       "    <tr>\n",
       "      <th>5</th>\n",
       "      <td>88410</td>\n",
       "      <td>s</td>\n",
       "      <td>0.00</td>\n",
       "    </tr>\n",
       "    <tr>\n",
       "      <th>6</th>\n",
       "      <td>88410</td>\n",
       "      <td>s</td>\n",
       "      <td>0.00</td>\n",
       "    </tr>\n",
       "    <tr>\n",
       "      <th>7</th>\n",
       "      <td>90267</td>\n",
       "      <td>s</td>\n",
       "      <td>1700.00</td>\n",
       "    </tr>\n",
       "    <tr>\n",
       "      <th>8</th>\n",
       "      <td>90267</td>\n",
       "      <td>s</td>\n",
       "      <td>942.00</td>\n",
       "    </tr>\n",
       "    <tr>\n",
       "      <th>9</th>\n",
       "      <td>90267</td>\n",
       "      <td>s</td>\n",
       "      <td>0.00</td>\n",
       "    </tr>\n",
       "    <tr>\n",
       "      <th>10</th>\n",
       "      <td>88024</td>\n",
       "      <td>s</td>\n",
       "      <td>0.00</td>\n",
       "    </tr>\n",
       "    <tr>\n",
       "      <th>11</th>\n",
       "      <td>88024</td>\n",
       "      <td>s</td>\n",
       "      <td>954.00</td>\n",
       "    </tr>\n",
       "    <tr>\n",
       "      <th>12</th>\n",
       "      <td>88024</td>\n",
       "      <td>s</td>\n",
       "      <td>1500.00</td>\n",
       "    </tr>\n",
       "    <tr>\n",
       "      <th>13</th>\n",
       "      <td>90063</td>\n",
       "      <td>s</td>\n",
       "      <td>850.00</td>\n",
       "    </tr>\n",
       "    <tr>\n",
       "      <th>14</th>\n",
       "      <td>90063</td>\n",
       "      <td>s</td>\n",
       "      <td>2944.83</td>\n",
       "    </tr>\n",
       "    <tr>\n",
       "      <th>15</th>\n",
       "      <td>90063</td>\n",
       "      <td>s</td>\n",
       "      <td>0.00</td>\n",
       "    </tr>\n",
       "    <tr>\n",
       "      <th>16</th>\n",
       "      <td>90063</td>\n",
       "      <td>s</td>\n",
       "      <td>0.00</td>\n",
       "    </tr>\n",
       "    <tr>\n",
       "      <th>17</th>\n",
       "      <td>90579</td>\n",
       "      <td>s</td>\n",
       "      <td>900.00</td>\n",
       "    </tr>\n",
       "    <tr>\n",
       "      <th>18</th>\n",
       "      <td>90579</td>\n",
       "      <td>s</td>\n",
       "      <td>0.00</td>\n",
       "    </tr>\n",
       "    <tr>\n",
       "      <th>19</th>\n",
       "      <td>90579</td>\n",
       "      <td>s</td>\n",
       "      <td>0.00</td>\n",
       "    </tr>\n",
       "    <tr>\n",
       "      <th>20</th>\n",
       "      <td>96922</td>\n",
       "      <td>s</td>\n",
       "      <td>1200.00</td>\n",
       "    </tr>\n",
       "    <tr>\n",
       "      <th>21</th>\n",
       "      <td>90216</td>\n",
       "      <td>s</td>\n",
       "      <td>0.00</td>\n",
       "    </tr>\n",
       "    <tr>\n",
       "      <th>22</th>\n",
       "      <td>90216</td>\n",
       "      <td>s</td>\n",
       "      <td>0.00</td>\n",
       "    </tr>\n",
       "    <tr>\n",
       "      <th>23</th>\n",
       "      <td>90216</td>\n",
       "      <td>s</td>\n",
       "      <td>1093.00</td>\n",
       "    </tr>\n",
       "    <tr>\n",
       "      <th>24</th>\n",
       "      <td>90216</td>\n",
       "      <td>s</td>\n",
       "      <td>0.00</td>\n",
       "    </tr>\n",
       "    <tr>\n",
       "      <th>25</th>\n",
       "      <td>96595</td>\n",
       "      <td>s</td>\n",
       "      <td>0.00</td>\n",
       "    </tr>\n",
       "    <tr>\n",
       "      <th>26</th>\n",
       "      <td>97010</td>\n",
       "      <td>s</td>\n",
       "      <td>0.00</td>\n",
       "    </tr>\n",
       "    <tr>\n",
       "      <th>27</th>\n",
       "      <td>97010</td>\n",
       "      <td>s</td>\n",
       "      <td>1182.00</td>\n",
       "    </tr>\n",
       "    <tr>\n",
       "      <th>28</th>\n",
       "      <td>97010</td>\n",
       "      <td>s</td>\n",
       "      <td>0.00</td>\n",
       "    </tr>\n",
       "    <tr>\n",
       "      <th>29</th>\n",
       "      <td>97010</td>\n",
       "      <td>s</td>\n",
       "      <td>954.00</td>\n",
       "    </tr>\n",
       "    <tr>\n",
       "      <th>...</th>\n",
       "      <td>...</td>\n",
       "      <td>...</td>\n",
       "      <td>...</td>\n",
       "    </tr>\n",
       "    <tr>\n",
       "      <th>6216</th>\n",
       "      <td>90296</td>\n",
       "      <td>s</td>\n",
       "      <td>0.00</td>\n",
       "    </tr>\n",
       "    <tr>\n",
       "      <th>6217</th>\n",
       "      <td>93017</td>\n",
       "      <td>s</td>\n",
       "      <td>0.01</td>\n",
       "    </tr>\n",
       "    <tr>\n",
       "      <th>6218</th>\n",
       "      <td>88214</td>\n",
       "      <td>s</td>\n",
       "      <td>0.00</td>\n",
       "    </tr>\n",
       "    <tr>\n",
       "      <th>6219</th>\n",
       "      <td>88214</td>\n",
       "      <td>s</td>\n",
       "      <td>0.00</td>\n",
       "    </tr>\n",
       "    <tr>\n",
       "      <th>6220</th>\n",
       "      <td>88214</td>\n",
       "      <td>s</td>\n",
       "      <td>0.00</td>\n",
       "    </tr>\n",
       "    <tr>\n",
       "      <th>6221</th>\n",
       "      <td>88214</td>\n",
       "      <td>s</td>\n",
       "      <td>954.00</td>\n",
       "    </tr>\n",
       "    <tr>\n",
       "      <th>6222</th>\n",
       "      <td>93017</td>\n",
       "      <td>s</td>\n",
       "      <td>1100.00</td>\n",
       "    </tr>\n",
       "    <tr>\n",
       "      <th>6223</th>\n",
       "      <td>93017</td>\n",
       "      <td>s</td>\n",
       "      <td>880.00</td>\n",
       "    </tr>\n",
       "    <tr>\n",
       "      <th>6224</th>\n",
       "      <td>89331</td>\n",
       "      <td>s</td>\n",
       "      <td>937.00</td>\n",
       "    </tr>\n",
       "    <tr>\n",
       "      <th>6225</th>\n",
       "      <td>89331</td>\n",
       "      <td>s</td>\n",
       "      <td>0.00</td>\n",
       "    </tr>\n",
       "    <tr>\n",
       "      <th>6226</th>\n",
       "      <td>90259</td>\n",
       "      <td>s</td>\n",
       "      <td>350.00</td>\n",
       "    </tr>\n",
       "    <tr>\n",
       "      <th>6227</th>\n",
       "      <td>90259</td>\n",
       "      <td>s</td>\n",
       "      <td>1685.00</td>\n",
       "    </tr>\n",
       "    <tr>\n",
       "      <th>6228</th>\n",
       "      <td>90259</td>\n",
       "      <td>s</td>\n",
       "      <td>0.00</td>\n",
       "    </tr>\n",
       "    <tr>\n",
       "      <th>6229</th>\n",
       "      <td>90259</td>\n",
       "      <td>s</td>\n",
       "      <td>0.00</td>\n",
       "    </tr>\n",
       "    <tr>\n",
       "      <th>6230</th>\n",
       "      <td>90259</td>\n",
       "      <td>s</td>\n",
       "      <td>0.00</td>\n",
       "    </tr>\n",
       "    <tr>\n",
       "      <th>6231</th>\n",
       "      <td>89331</td>\n",
       "      <td>s</td>\n",
       "      <td>511.00</td>\n",
       "    </tr>\n",
       "    <tr>\n",
       "      <th>6232</th>\n",
       "      <td>97673</td>\n",
       "      <td>s</td>\n",
       "      <td>0.00</td>\n",
       "    </tr>\n",
       "    <tr>\n",
       "      <th>6233</th>\n",
       "      <td>97673</td>\n",
       "      <td>s</td>\n",
       "      <td>0.00</td>\n",
       "    </tr>\n",
       "    <tr>\n",
       "      <th>6234</th>\n",
       "      <td>97673</td>\n",
       "      <td>s</td>\n",
       "      <td>1950.00</td>\n",
       "    </tr>\n",
       "    <tr>\n",
       "      <th>6235</th>\n",
       "      <td>97673</td>\n",
       "      <td>s</td>\n",
       "      <td>1200.00</td>\n",
       "    </tr>\n",
       "    <tr>\n",
       "      <th>6236</th>\n",
       "      <td>89625</td>\n",
       "      <td>s</td>\n",
       "      <td>1051.03</td>\n",
       "    </tr>\n",
       "    <tr>\n",
       "      <th>6237</th>\n",
       "      <td>89625</td>\n",
       "      <td>s</td>\n",
       "      <td>2162.52</td>\n",
       "    </tr>\n",
       "    <tr>\n",
       "      <th>6238</th>\n",
       "      <td>89625</td>\n",
       "      <td>s</td>\n",
       "      <td>0.00</td>\n",
       "    </tr>\n",
       "    <tr>\n",
       "      <th>6239</th>\n",
       "      <td>96745</td>\n",
       "      <td>s</td>\n",
       "      <td>0.00</td>\n",
       "    </tr>\n",
       "    <tr>\n",
       "      <th>6240</th>\n",
       "      <td>96745</td>\n",
       "      <td>s</td>\n",
       "      <td>0.00</td>\n",
       "    </tr>\n",
       "    <tr>\n",
       "      <th>6241</th>\n",
       "      <td>96745</td>\n",
       "      <td>s</td>\n",
       "      <td>1700.00</td>\n",
       "    </tr>\n",
       "    <tr>\n",
       "      <th>6242</th>\n",
       "      <td>96745</td>\n",
       "      <td>s</td>\n",
       "      <td>0.00</td>\n",
       "    </tr>\n",
       "    <tr>\n",
       "      <th>6243</th>\n",
       "      <td>95751</td>\n",
       "      <td>s</td>\n",
       "      <td>0.00</td>\n",
       "    </tr>\n",
       "    <tr>\n",
       "      <th>6244</th>\n",
       "      <td>95751</td>\n",
       "      <td>s</td>\n",
       "      <td>600.00</td>\n",
       "    </tr>\n",
       "    <tr>\n",
       "      <th>6245</th>\n",
       "      <td>98041</td>\n",
       "      <td>s</td>\n",
       "      <td>1.00</td>\n",
       "    </tr>\n",
       "  </tbody>\n",
       "</table>\n",
       "<p>6246 rows × 3 columns</p>\n",
       "</div>"
      ],
      "text/plain": [
       "      codigo deferimento  renda_mensal\n",
       "0      96398           s       2164.46\n",
       "1      96398           s          0.00\n",
       "2      96398           s          0.00\n",
       "3      88410           s       1954.71\n",
       "4      88410           s          0.00\n",
       "5      88410           s          0.00\n",
       "6      88410           s          0.00\n",
       "7      90267           s       1700.00\n",
       "8      90267           s        942.00\n",
       "9      90267           s          0.00\n",
       "10     88024           s          0.00\n",
       "11     88024           s        954.00\n",
       "12     88024           s       1500.00\n",
       "13     90063           s        850.00\n",
       "14     90063           s       2944.83\n",
       "15     90063           s          0.00\n",
       "16     90063           s          0.00\n",
       "17     90579           s        900.00\n",
       "18     90579           s          0.00\n",
       "19     90579           s          0.00\n",
       "20     96922           s       1200.00\n",
       "21     90216           s          0.00\n",
       "22     90216           s          0.00\n",
       "23     90216           s       1093.00\n",
       "24     90216           s          0.00\n",
       "25     96595           s          0.00\n",
       "26     97010           s          0.00\n",
       "27     97010           s       1182.00\n",
       "28     97010           s          0.00\n",
       "29     97010           s        954.00\n",
       "...      ...         ...           ...\n",
       "6216   90296           s          0.00\n",
       "6217   93017           s          0.01\n",
       "6218   88214           s          0.00\n",
       "6219   88214           s          0.00\n",
       "6220   88214           s          0.00\n",
       "6221   88214           s        954.00\n",
       "6222   93017           s       1100.00\n",
       "6223   93017           s        880.00\n",
       "6224   89331           s        937.00\n",
       "6225   89331           s          0.00\n",
       "6226   90259           s        350.00\n",
       "6227   90259           s       1685.00\n",
       "6228   90259           s          0.00\n",
       "6229   90259           s          0.00\n",
       "6230   90259           s          0.00\n",
       "6231   89331           s        511.00\n",
       "6232   97673           s          0.00\n",
       "6233   97673           s          0.00\n",
       "6234   97673           s       1950.00\n",
       "6235   97673           s       1200.00\n",
       "6236   89625           s       1051.03\n",
       "6237   89625           s       2162.52\n",
       "6238   89625           s          0.00\n",
       "6239   96745           s          0.00\n",
       "6240   96745           s          0.00\n",
       "6241   96745           s       1700.00\n",
       "6242   96745           s          0.00\n",
       "6243   95751           s          0.00\n",
       "6244   95751           s        600.00\n",
       "6245   98041           s          1.00\n",
       "\n",
       "[6246 rows x 3 columns]"
      ]
     },
     "execution_count": 105,
     "metadata": {},
     "output_type": "execute_result"
    }
   ],
   "source": [
    "sentinels = {'renda_mensal': ['.', 'NaN']}\n",
    "df = pd.read_csv('datasets/assist-estud-ID-Renda.csv', delimiter=';')\n",
    "\n",
    "# replacing na values in college with No college \n",
    "df[\"renda_mensal\"].fillna(\"0\", inplace = True) \n",
    "#df['renda_mensal'].sum()\n",
    "\n",
    "df.renda_mensal = df.renda_mensal.astype('float')\n",
    "\n",
    "df\n"
   ]
  },
  {
   "cell_type": "code",
   "execution_count": 106,
   "metadata": {},
   "outputs": [],
   "source": [
    "df2 = df.groupby(['codigo','deferimento']).mean().reset_index()\n",
    "#df2.plot.scatter(x ='inscricao', y ='renda_mensal')\n",
    "\n",
    "\n",
    "df2.to_csv('assis-estud-agregado-media.csv', sep=';', encoding='utf-8')"
   ]
  },
  {
   "cell_type": "code",
   "execution_count": 114,
   "metadata": {},
   "outputs": [
    {
     "data": {
      "text/html": [
       "<div>\n",
       "<style scoped>\n",
       "    .dataframe tbody tr th:only-of-type {\n",
       "        vertical-align: middle;\n",
       "    }\n",
       "\n",
       "    .dataframe tbody tr th {\n",
       "        vertical-align: top;\n",
       "    }\n",
       "\n",
       "    .dataframe thead th {\n",
       "        text-align: right;\n",
       "    }\n",
       "</style>\n",
       "<table border=\"1\" class=\"dataframe\">\n",
       "  <thead>\n",
       "    <tr style=\"text-align: right;\">\n",
       "      <th></th>\n",
       "      <th>INSCRICAO</th>\n",
       "      <th>LABEL</th>\n",
       "      <th>RENDA_MEDIA</th>\n",
       "    </tr>\n",
       "  </thead>\n",
       "  <tbody>\n",
       "    <tr>\n",
       "      <th>0</th>\n",
       "      <td>87994</td>\n",
       "      <td>s</td>\n",
       "      <td>540.000000</td>\n",
       "    </tr>\n",
       "    <tr>\n",
       "      <th>1</th>\n",
       "      <td>87995</td>\n",
       "      <td>s</td>\n",
       "      <td>909.683333</td>\n",
       "    </tr>\n",
       "    <tr>\n",
       "      <th>2</th>\n",
       "      <td>87996</td>\n",
       "      <td>s</td>\n",
       "      <td>471.333333</td>\n",
       "    </tr>\n",
       "    <tr>\n",
       "      <th>3</th>\n",
       "      <td>87997</td>\n",
       "      <td>s</td>\n",
       "      <td>350.005000</td>\n",
       "    </tr>\n",
       "    <tr>\n",
       "      <th>4</th>\n",
       "      <td>88002</td>\n",
       "      <td>s</td>\n",
       "      <td>910.873333</td>\n",
       "    </tr>\n",
       "    <tr>\n",
       "      <th>5</th>\n",
       "      <td>88009</td>\n",
       "      <td>s</td>\n",
       "      <td>406.666667</td>\n",
       "    </tr>\n",
       "    <tr>\n",
       "      <th>6</th>\n",
       "      <td>88010</td>\n",
       "      <td>s</td>\n",
       "      <td>477.000000</td>\n",
       "    </tr>\n",
       "    <tr>\n",
       "      <th>7</th>\n",
       "      <td>88015</td>\n",
       "      <td>s</td>\n",
       "      <td>200.000000</td>\n",
       "    </tr>\n",
       "    <tr>\n",
       "      <th>8</th>\n",
       "      <td>88020</td>\n",
       "      <td>s</td>\n",
       "      <td>460.000000</td>\n",
       "    </tr>\n",
       "    <tr>\n",
       "      <th>9</th>\n",
       "      <td>88021</td>\n",
       "      <td>s</td>\n",
       "      <td>280.000000</td>\n",
       "    </tr>\n",
       "    <tr>\n",
       "      <th>10</th>\n",
       "      <td>88022</td>\n",
       "      <td>s</td>\n",
       "      <td>476.420000</td>\n",
       "    </tr>\n",
       "    <tr>\n",
       "      <th>11</th>\n",
       "      <td>88024</td>\n",
       "      <td>s</td>\n",
       "      <td>818.000000</td>\n",
       "    </tr>\n",
       "    <tr>\n",
       "      <th>12</th>\n",
       "      <td>88025</td>\n",
       "      <td>s</td>\n",
       "      <td>990.912000</td>\n",
       "    </tr>\n",
       "    <tr>\n",
       "      <th>13</th>\n",
       "      <td>88040</td>\n",
       "      <td>s</td>\n",
       "      <td>238.500000</td>\n",
       "    </tr>\n",
       "    <tr>\n",
       "      <th>14</th>\n",
       "      <td>88041</td>\n",
       "      <td>s</td>\n",
       "      <td>483.666667</td>\n",
       "    </tr>\n",
       "    <tr>\n",
       "      <th>15</th>\n",
       "      <td>88042</td>\n",
       "      <td>s</td>\n",
       "      <td>562.912500</td>\n",
       "    </tr>\n",
       "    <tr>\n",
       "      <th>16</th>\n",
       "      <td>88043</td>\n",
       "      <td>s</td>\n",
       "      <td>611.500000</td>\n",
       "    </tr>\n",
       "    <tr>\n",
       "      <th>17</th>\n",
       "      <td>88048</td>\n",
       "      <td>s</td>\n",
       "      <td>650.000000</td>\n",
       "    </tr>\n",
       "    <tr>\n",
       "      <th>18</th>\n",
       "      <td>88053</td>\n",
       "      <td>s</td>\n",
       "      <td>624.666667</td>\n",
       "    </tr>\n",
       "    <tr>\n",
       "      <th>19</th>\n",
       "      <td>88054</td>\n",
       "      <td>s</td>\n",
       "      <td>1228.000000</td>\n",
       "    </tr>\n",
       "    <tr>\n",
       "      <th>20</th>\n",
       "      <td>88055</td>\n",
       "      <td>s</td>\n",
       "      <td>750.000000</td>\n",
       "    </tr>\n",
       "    <tr>\n",
       "      <th>21</th>\n",
       "      <td>88059</td>\n",
       "      <td>s</td>\n",
       "      <td>199.333333</td>\n",
       "    </tr>\n",
       "    <tr>\n",
       "      <th>22</th>\n",
       "      <td>88063</td>\n",
       "      <td>s</td>\n",
       "      <td>379.880000</td>\n",
       "    </tr>\n",
       "    <tr>\n",
       "      <th>23</th>\n",
       "      <td>88069</td>\n",
       "      <td>s</td>\n",
       "      <td>648.333333</td>\n",
       "    </tr>\n",
       "    <tr>\n",
       "      <th>24</th>\n",
       "      <td>88085</td>\n",
       "      <td>s</td>\n",
       "      <td>1034.250000</td>\n",
       "    </tr>\n",
       "    <tr>\n",
       "      <th>25</th>\n",
       "      <td>88087</td>\n",
       "      <td>s</td>\n",
       "      <td>480.000000</td>\n",
       "    </tr>\n",
       "    <tr>\n",
       "      <th>26</th>\n",
       "      <td>88088</td>\n",
       "      <td>s</td>\n",
       "      <td>312.333333</td>\n",
       "    </tr>\n",
       "    <tr>\n",
       "      <th>27</th>\n",
       "      <td>88089</td>\n",
       "      <td>s</td>\n",
       "      <td>0.000000</td>\n",
       "    </tr>\n",
       "    <tr>\n",
       "      <th>28</th>\n",
       "      <td>88090</td>\n",
       "      <td>s</td>\n",
       "      <td>792.666667</td>\n",
       "    </tr>\n",
       "    <tr>\n",
       "      <th>29</th>\n",
       "      <td>88096</td>\n",
       "      <td>s</td>\n",
       "      <td>425.760000</td>\n",
       "    </tr>\n",
       "    <tr>\n",
       "      <th>...</th>\n",
       "      <td>...</td>\n",
       "      <td>...</td>\n",
       "      <td>...</td>\n",
       "    </tr>\n",
       "    <tr>\n",
       "      <th>1472</th>\n",
       "      <td>97901</td>\n",
       "      <td>s</td>\n",
       "      <td>873.860000</td>\n",
       "    </tr>\n",
       "    <tr>\n",
       "      <th>1473</th>\n",
       "      <td>97903</td>\n",
       "      <td>s</td>\n",
       "      <td>1388.000000</td>\n",
       "    </tr>\n",
       "    <tr>\n",
       "      <th>1474</th>\n",
       "      <td>97908</td>\n",
       "      <td>s</td>\n",
       "      <td>954.005000</td>\n",
       "    </tr>\n",
       "    <tr>\n",
       "      <th>1475</th>\n",
       "      <td>97917</td>\n",
       "      <td>s</td>\n",
       "      <td>1060.580000</td>\n",
       "    </tr>\n",
       "    <tr>\n",
       "      <th>1476</th>\n",
       "      <td>97927</td>\n",
       "      <td>s</td>\n",
       "      <td>583.493333</td>\n",
       "    </tr>\n",
       "    <tr>\n",
       "      <th>1477</th>\n",
       "      <td>97928</td>\n",
       "      <td>s</td>\n",
       "      <td>457.543333</td>\n",
       "    </tr>\n",
       "    <tr>\n",
       "      <th>1478</th>\n",
       "      <td>97929</td>\n",
       "      <td>s</td>\n",
       "      <td>946.460000</td>\n",
       "    </tr>\n",
       "    <tr>\n",
       "      <th>1479</th>\n",
       "      <td>97933</td>\n",
       "      <td>s</td>\n",
       "      <td>895.216667</td>\n",
       "    </tr>\n",
       "    <tr>\n",
       "      <th>1480</th>\n",
       "      <td>97935</td>\n",
       "      <td>s</td>\n",
       "      <td>905.600000</td>\n",
       "    </tr>\n",
       "    <tr>\n",
       "      <th>1481</th>\n",
       "      <td>97942</td>\n",
       "      <td>s</td>\n",
       "      <td>283.333333</td>\n",
       "    </tr>\n",
       "    <tr>\n",
       "      <th>1482</th>\n",
       "      <td>97944</td>\n",
       "      <td>s</td>\n",
       "      <td>609.250000</td>\n",
       "    </tr>\n",
       "    <tr>\n",
       "      <th>1483</th>\n",
       "      <td>97945</td>\n",
       "      <td>s</td>\n",
       "      <td>1380.000000</td>\n",
       "    </tr>\n",
       "    <tr>\n",
       "      <th>1484</th>\n",
       "      <td>97947</td>\n",
       "      <td>s</td>\n",
       "      <td>103.333333</td>\n",
       "    </tr>\n",
       "    <tr>\n",
       "      <th>1485</th>\n",
       "      <td>97951</td>\n",
       "      <td>s</td>\n",
       "      <td>691.657500</td>\n",
       "    </tr>\n",
       "    <tr>\n",
       "      <th>1486</th>\n",
       "      <td>97958</td>\n",
       "      <td>s</td>\n",
       "      <td>737.000000</td>\n",
       "    </tr>\n",
       "    <tr>\n",
       "      <th>1487</th>\n",
       "      <td>97965</td>\n",
       "      <td>s</td>\n",
       "      <td>242.285714</td>\n",
       "    </tr>\n",
       "    <tr>\n",
       "      <th>1488</th>\n",
       "      <td>97973</td>\n",
       "      <td>s</td>\n",
       "      <td>1195.556667</td>\n",
       "    </tr>\n",
       "    <tr>\n",
       "      <th>1489</th>\n",
       "      <td>97980</td>\n",
       "      <td>s</td>\n",
       "      <td>300.000000</td>\n",
       "    </tr>\n",
       "    <tr>\n",
       "      <th>1490</th>\n",
       "      <td>97981</td>\n",
       "      <td>s</td>\n",
       "      <td>478.005000</td>\n",
       "    </tr>\n",
       "    <tr>\n",
       "      <th>1491</th>\n",
       "      <td>97989</td>\n",
       "      <td>s</td>\n",
       "      <td>125.252500</td>\n",
       "    </tr>\n",
       "    <tr>\n",
       "      <th>1492</th>\n",
       "      <td>97991</td>\n",
       "      <td>s</td>\n",
       "      <td>341.540000</td>\n",
       "    </tr>\n",
       "    <tr>\n",
       "      <th>1493</th>\n",
       "      <td>97993</td>\n",
       "      <td>s</td>\n",
       "      <td>500.006667</td>\n",
       "    </tr>\n",
       "    <tr>\n",
       "      <th>1494</th>\n",
       "      <td>97995</td>\n",
       "      <td>s</td>\n",
       "      <td>125.000000</td>\n",
       "    </tr>\n",
       "    <tr>\n",
       "      <th>1495</th>\n",
       "      <td>97996</td>\n",
       "      <td>s</td>\n",
       "      <td>750.005000</td>\n",
       "    </tr>\n",
       "    <tr>\n",
       "      <th>1496</th>\n",
       "      <td>97997</td>\n",
       "      <td>s</td>\n",
       "      <td>401.557143</td>\n",
       "    </tr>\n",
       "    <tr>\n",
       "      <th>1497</th>\n",
       "      <td>97998</td>\n",
       "      <td>s</td>\n",
       "      <td>430.742000</td>\n",
       "    </tr>\n",
       "    <tr>\n",
       "      <th>1498</th>\n",
       "      <td>98002</td>\n",
       "      <td>s</td>\n",
       "      <td>318.000000</td>\n",
       "    </tr>\n",
       "    <tr>\n",
       "      <th>1499</th>\n",
       "      <td>98003</td>\n",
       "      <td>s</td>\n",
       "      <td>0.010000</td>\n",
       "    </tr>\n",
       "    <tr>\n",
       "      <th>1500</th>\n",
       "      <td>98021</td>\n",
       "      <td>s</td>\n",
       "      <td>623.021667</td>\n",
       "    </tr>\n",
       "    <tr>\n",
       "      <th>1501</th>\n",
       "      <td>98041</td>\n",
       "      <td>s</td>\n",
       "      <td>1.000000</td>\n",
       "    </tr>\n",
       "  </tbody>\n",
       "</table>\n",
       "<p>1502 rows × 3 columns</p>\n",
       "</div>"
      ],
      "text/plain": [
       "      INSCRICAO LABEL  RENDA_MEDIA\n",
       "0         87994     s   540.000000\n",
       "1         87995     s   909.683333\n",
       "2         87996     s   471.333333\n",
       "3         87997     s   350.005000\n",
       "4         88002     s   910.873333\n",
       "5         88009     s   406.666667\n",
       "6         88010     s   477.000000\n",
       "7         88015     s   200.000000\n",
       "8         88020     s   460.000000\n",
       "9         88021     s   280.000000\n",
       "10        88022     s   476.420000\n",
       "11        88024     s   818.000000\n",
       "12        88025     s   990.912000\n",
       "13        88040     s   238.500000\n",
       "14        88041     s   483.666667\n",
       "15        88042     s   562.912500\n",
       "16        88043     s   611.500000\n",
       "17        88048     s   650.000000\n",
       "18        88053     s   624.666667\n",
       "19        88054     s  1228.000000\n",
       "20        88055     s   750.000000\n",
       "21        88059     s   199.333333\n",
       "22        88063     s   379.880000\n",
       "23        88069     s   648.333333\n",
       "24        88085     s  1034.250000\n",
       "25        88087     s   480.000000\n",
       "26        88088     s   312.333333\n",
       "27        88089     s     0.000000\n",
       "28        88090     s   792.666667\n",
       "29        88096     s   425.760000\n",
       "...         ...   ...          ...\n",
       "1472      97901     s   873.860000\n",
       "1473      97903     s  1388.000000\n",
       "1474      97908     s   954.005000\n",
       "1475      97917     s  1060.580000\n",
       "1476      97927     s   583.493333\n",
       "1477      97928     s   457.543333\n",
       "1478      97929     s   946.460000\n",
       "1479      97933     s   895.216667\n",
       "1480      97935     s   905.600000\n",
       "1481      97942     s   283.333333\n",
       "1482      97944     s   609.250000\n",
       "1483      97945     s  1380.000000\n",
       "1484      97947     s   103.333333\n",
       "1485      97951     s   691.657500\n",
       "1486      97958     s   737.000000\n",
       "1487      97965     s   242.285714\n",
       "1488      97973     s  1195.556667\n",
       "1489      97980     s   300.000000\n",
       "1490      97981     s   478.005000\n",
       "1491      97989     s   125.252500\n",
       "1492      97991     s   341.540000\n",
       "1493      97993     s   500.006667\n",
       "1494      97995     s   125.000000\n",
       "1495      97996     s   750.005000\n",
       "1496      97997     s   401.557143\n",
       "1497      97998     s   430.742000\n",
       "1498      98002     s   318.000000\n",
       "1499      98003     s     0.010000\n",
       "1500      98021     s   623.021667\n",
       "1501      98041     s     1.000000\n",
       "\n",
       "[1502 rows x 3 columns]"
      ]
     },
     "execution_count": 114,
     "metadata": {},
     "output_type": "execute_result"
    }
   ],
   "source": [
    "import pandas as pd\n",
    "\n",
    "\n",
    "#df3 = df.groupby(['codigo','deferimento']).sum().reset_index()\n",
    "\n",
    "#df2.to_csv('assis-estud-agregado.csv', sep=';', encoding='utf-8')\n",
    "\n",
    "\n",
    "df = pd.read_csv('datasets/assis-estud-agregado-media-clean.csv', delimiter=';')\n",
    "\n",
    "\n",
    "dfN = pd.read_csv('datasets/assis-estud-label-N.csv', delimiter=';')\n",
    "\n",
    "dfS = pd.read_csv('datasets/assis-estud-label-S.csv', delimiter=';')\n",
    "\n",
    "\n",
    "\n"
   ]
  },
  {
   "cell_type": "code",
   "execution_count": 142,
   "metadata": {},
   "outputs": [
    {
     "data": {
      "text/plain": [
       "count    1852.000000\n",
       "mean      640.718226\n",
       "std       402.305273\n",
       "min         0.000000\n",
       "25%       375.003750\n",
       "50%       575.002500\n",
       "75%       854.494583\n",
       "max      7642.600000\n",
       "Name: renda_mensal, dtype: float64"
      ]
     },
     "execution_count": 142,
     "metadata": {},
     "output_type": "execute_result"
    }
   ],
   "source": [
    "seriesN = pd.Series(df.renda_mensal)\n",
    "seriesN.describe()"
   ]
  },
  {
   "cell_type": "code",
   "execution_count": 118,
   "metadata": {},
   "outputs": [
    {
     "data": {
      "text/plain": [
       "count     350.000000\n",
       "mean      738.271732\n",
       "std       509.289492\n",
       "min         0.000000\n",
       "25%       376.666667\n",
       "50%       600.000000\n",
       "75%      1000.000000\n",
       "max      2821.130000\n",
       "Name: RENDA_MEDIA, dtype: float64"
      ]
     },
     "execution_count": 118,
     "metadata": {},
     "output_type": "execute_result"
    }
   ],
   "source": [
    "\n",
    "\n",
    "\n",
    "seriesN = pd.Series(dfN.RENDA_MEDIA)\n",
    "seriesN.describe()"
   ]
  },
  {
   "cell_type": "code",
   "execution_count": 119,
   "metadata": {},
   "outputs": [
    {
     "data": {
      "text/plain": [
       "count    1502.000000\n",
       "mean      617.986051\n",
       "std       369.520220\n",
       "min         0.000000\n",
       "25%       375.005625\n",
       "50%       569.439167\n",
       "75%       817.972500\n",
       "max      7642.600000\n",
       "Name: RENDA_MEDIA, dtype: float64"
      ]
     },
     "execution_count": 119,
     "metadata": {},
     "output_type": "execute_result"
    }
   ],
   "source": [
    "seriesS = pd.Series(dfS.RENDA_MEDIA)\n",
    "seriesS.describe()"
   ]
  },
  {
   "cell_type": "code",
   "execution_count": 134,
   "metadata": {},
   "outputs": [
    {
     "data": {
      "image/png": "[encoded data removed]",
      "text/plain": [
       "<Figure size 432x288 with 1 Axes>"
      ]
     },
     "metadata": {
      "needs_background": "light"
     },
     "output_type": "display_data"
    }
   ],
   "source": [
    "from scipy import stats\n",
    "import seaborn as sns\n",
    "\n",
    "\n",
    "\n",
    "def naive_hpd(post):\n",
    "    sns.kdeplot(post)\n",
    "    HPD = np.percentile(post, [2.5, 97.5])\n",
    "    plt.plot(HPD, [0, 0], label='HPD {:.2f} {:.2f}'.format(*HPD),\n",
    "    linewidth=8, color='k')\n",
    "    plt.legend(fontsize=16);\n",
    "    plt.xlabel(r'$\\theta$', fontsize=14)\n",
    "    plt.gca().axes.get_yaxis().set_ticks([])\n",
    "    \n",
    "    \n",
    "np.random.seed(1)\n",
    "#post = stats.beta.rvs(5, 11, size=1000)\n",
    "#naive_hpd(post)\n",
    "\n",
    "\n",
    "\n",
    "\n",
    "#np.random.seed(1)\n",
    "#gauss_a = stats.norm.rvs(loc=4, scale=0.9, size=3000)\n",
    "#gauss_b = stats.norm.rvs(loc=-2, scale=1, size=2000)\n",
    "#mix_norm = np.concatenate((gauss_a, gauss_b))\n",
    "#naive_hpd(mix_norm)\n",
    "\n",
    "\n",
    "\n",
    "mix_norm = np.concatenate((dfS.RENDA_MEDIA, dfN.RENDA_MEDIA))\n",
    "\n",
    "len(df.)\n",
    "naive_hpd(mix_norm)\n",
    "\n"
   ]
  },
  {
   "cell_type": "code",
   "execution_count": 138,
   "metadata": {},
   "outputs": [],
   "source": [
    "from __future__ import division\n",
    "import numpy as np\n",
    "import scipy.stats.kde as kde\n",
    "\n",
    "def hpd_grid(sample, alpha=0.05, roundto=2):\n",
    "    \"\"\"Calculate highest posterior density (HPD) of array for given alpha. \n",
    "    The HPD is the minimum width Bayesian credible interval (BCI). \n",
    "    The function works for multimodal distributions, returning more than one mode\n",
    "\n",
    "    Parameters\n",
    "    ----------\n",
    "    \n",
    "    sample : Numpy array or python list\n",
    "        An array containing MCMC samples\n",
    "    alpha : float\n",
    "        Desired probability of type I error (defaults to 0.05)\n",
    "    roundto: integer\n",
    "        Number of digits after the decimal point for the results\n",
    "\n",
    "    Returns\n",
    "    ----------\n",
    "    hpd: array with the lower \n",
    "          \n",
    "    \"\"\"\n",
    "    sample = np.asarray(sample)\n",
    "    sample = sample[~np.isnan(sample)]\n",
    "    # get upper and lower bounds\n",
    "    l = np.min(sample)\n",
    "    u = np.max(sample)\n",
    "    density = kde.gaussian_kde(sample)\n",
    "    x = np.linspace(l, u, 2000)\n",
    "    y = density.evaluate(x)\n",
    "    #y = density.evaluate(x, l, u) waitting for PR to be accepted\n",
    "    xy_zipped = zip(x, y/np.sum(y))\n",
    "    xy = sorted(xy_zipped, key=lambda x: x[1], reverse=True)\n",
    "    xy_cum_sum = 0\n",
    "    hdv = []\n",
    "    for val in xy:\n",
    "        xy_cum_sum += val[1]\n",
    "        hdv.append(val[0])\n",
    "        if xy_cum_sum >= (1-alpha):\n",
    "            break\n",
    "    hdv.sort()\n",
    "    diff = (u-l)/20  # differences of 5%\n",
    "    hpd = []\n",
    "    hpd.append(round(min(hdv), roundto))\n",
    "    for i in range(1, len(hdv)):\n",
    "        if hdv[i]-hdv[i-1] >= diff:\n",
    "            hpd.append(round(hdv[i-1], roundto))\n",
    "            hpd.append(round(hdv[i], roundto))\n",
    "    hpd.append(round(max(hdv), roundto))\n",
    "    ite = iter(hpd)\n",
    "    hpd = list(zip(ite, ite))\n",
    "    modes = []\n",
    "    for value in hpd:\n",
    "         x_hpd = x[(x > value[0]) & (x < value[1])]\n",
    "         y_hpd = y[(x > value[0]) & (x < value[1])]\n",
    "         modes.append(round(x_hpd[np.argmax(y_hpd)], roundto))\n",
    "    return hpd, x, y, modes\n"
   ]
  },
  {
   "cell_type": "code",
   "execution_count": 143,
   "metadata": {},
   "outputs": [
    {
     "data": {
      "text/plain": [
       "Text(0.5, 0, '$\\\\theta$')"
      ]
     },
     "execution_count": 143,
     "metadata": {},
     "output_type": "execute_result"
    },
    {
     "data": {
      "image/png": "[encoded data removed]",
      "text/plain": [
       "<Figure size 432x288 with 1 Axes>"
      ]
     },
     "metadata": {
      "needs_background": "light"
     },
     "output_type": "display_data"
    }
   ],
   "source": [
    "\n",
    "from __future__ import division\n",
    "import numpy as np\n",
    "from scipy import stats\n",
    "import matplotlib.pyplot as plt\n",
    "#from hpd import hpd_grid\n",
    "\n",
    "\n",
    "def plot_post(sample, alpha=0.05, show_mode=True, kde_plot=True, bins=50, \n",
    "    ROPE=None, comp_val=None, roundto=2):\n",
    "    \"\"\"Plot posterior and HPD\n",
    "\n",
    "    Parameters\n",
    "    ----------\n",
    "\n",
    "    sample : Numpy array or python list\n",
    "        An array containing MCMC samples\n",
    "    alpha : float\n",
    "        Desired probability of type I error (defaults to 0.05)\n",
    "    show_mode: Bool\n",
    "        If True the legend will show the mode(s) value(s), if false the mean(s)\n",
    "        will be displayed\n",
    "    kde_plot: Bool\n",
    "        If True the posterior will be displayed using a Kernel Density Estimation\n",
    "        otherwise an histogram will be used\n",
    "    bins: integer\n",
    "        Number of bins used for the histogram, only works when kde_plot is False\n",
    "    ROPE: list or numpy array\n",
    "        Lower and upper values of the Region Of Practical Equivalence\n",
    "    comp_val: float\n",
    "        Comparison value\n",
    "        \n",
    "\n",
    "    Returns\n",
    "    -------\n",
    "\n",
    "    post_summary : dictionary\n",
    "        Containing values with several summary statistics\n",
    "\n",
    "    \"\"\"       \n",
    "\n",
    "    post_summary = {'mean':0,'median':0,'mode':0, 'alpha':0,'hpd_low':0,\n",
    "                   'hpd_high':0, 'comp_val':0, 'pc_gt_comp_val':0, 'ROPE_low':0,\n",
    "                   'ROPE_high':0, 'pc_in_ROPE':0}\n",
    "\n",
    "    post_summary['mean'] = round(np.mean(sample), roundto)\n",
    "    post_summary['median'] = round(np.median(sample), roundto)\n",
    "    post_summary['alpha'] = alpha\n",
    "\n",
    "    # Compute the hpd, KDE and mode for the posterior\n",
    "    hpd, x, y, modes = hpd_grid(sample, alpha, roundto)\n",
    "    post_summary['hpd'] = hpd\n",
    "    post_summary['mode'] = modes\n",
    "\n",
    "    ## Plot KDE.\n",
    "    if kde_plot:\n",
    "            plt.plot(x, y, color='k', lw=2)\n",
    "    ## Plot histogram.\n",
    "    else:\n",
    "        plt.hist(sample, normed=True, bins=bins, facecolor='b', \n",
    "        edgecolor='w')\n",
    "\n",
    "    ## Display mode or mean:\n",
    "    if show_mode:\n",
    "        string = '{:g} ' * len(post_summary['mode'])\n",
    "        plt.plot(0, label='mode =' + string.format(*post_summary['mode']), alpha=0)\n",
    "    else:\n",
    "        plt.plot(0, label='mean = {:g}'.format(post_summary['mean']), alpha=0)\n",
    "\n",
    "    ## Display the hpd.\n",
    "    hpd_label = ''\n",
    "    for value in hpd:\n",
    "        plt.plot(value, [0, 0], linewidth=10, color='b')\n",
    "        hpd_label = hpd_label +  '{:g} {:g}\\n'.format(round(value[0], roundto), round(value[1], roundto)) \n",
    "    plt.plot(0, 0, linewidth=4, color='b', label='hpd {:g}%\\n{}'.format((1-alpha)*100, hpd_label))\n",
    "    ## Display the ROPE.\n",
    "    if ROPE is not None:\n",
    "        pc_in_ROPE = round(np.sum((sample > ROPE[0]) & (sample < ROPE[1]))/len(sample)*100, roundto)\n",
    "        plt.plot(ROPE, [0, 0], linewidth=20, color='r', alpha=0.75)\n",
    "        plt.plot(0, 0, linewidth=4, color='r', label='{:g}% in ROPE'.format(pc_in_ROPE))\n",
    "        post_summary['ROPE_low'] = ROPE[0] \n",
    "        post_summary['ROPE_high'] = ROPE[1] \n",
    "        post_summary['pc_in_ROPE'] = pc_in_ROPE\n",
    "    ## Display the comparison value.\n",
    "    if comp_val is not None:\n",
    "        pc_gt_comp_val = round(100 * np.sum(sample > comp_val)/len(sample), roundto)\n",
    "        pc_lt_comp_val = round(100 - pc_gt_comp_val, roundto)\n",
    "        plt.axvline(comp_val, ymax=.75, color='g', linewidth=4, alpha=0.75,\n",
    "            label='{:g}% < {:g} < {:g}%'.format(pc_lt_comp_val, \n",
    "                                                comp_val, pc_gt_comp_val))\n",
    "        post_summary['comp_val'] = comp_val\n",
    "        post_summary['pc_gt_comp_val'] = pc_gt_comp_val\n",
    "\n",
    "    plt.legend(loc=0, framealpha=1)\n",
    "    frame = plt.gca()\n",
    "    frame.axes.get_yaxis().set_ticks([])\n",
    "    return post_summary\n",
    "\n",
    "\n",
    "\n",
    "\n",
    "plot_post(mix_norm, roundto=2, alpha=0.05)\n",
    "plt.legend(loc=0, fontsize=16)\n",
    "plt.xlabel(r\"$\\theta$\", fontsize=14)\n"
   ]
  },
  {
   "cell_type": "markdown",
   "metadata": {},
   "source": [
    "I'll start with a uniform prior just to keep things simple.  We'll choose a better prior later."
   ]
  },
  {
   "cell_type": "code",
   "execution_count": null,
   "metadata": {},
   "outputs": [],
   "source": []
  },
  {
   "cell_type": "code",
   "execution_count": 29,
   "metadata": {},
   "outputs": [
    {
     "data": {
      "text/plain": [
       "array([ 0. ,  0.4,  0.8,  1.2,  1.6,  2. ,  2.4,  2.8,  3.2,  3.6,  4. ,\n",
       "        4.4,  4.8,  5.2,  5.6,  6. ,  6.4,  6.8,  7.2,  7.6,  8. ,  8.4,\n",
       "        8.8,  9.2,  9.6, 10. , 10.4, 10.8, 11.2, 11.6, 12. , 12.4, 12.8,\n",
       "       13.2, 13.6, 14. , 14.4, 14.8, 15.2, 15.6, 16. , 16.4, 16.8, 17.2,\n",
       "       17.6, 18. , 18.4, 18.8, 19.2, 19.6, 20. ])"
      ]
     },
     "execution_count": 29,
     "metadata": {},
     "output_type": "execute_result"
    }
   ],
   "source": [
    "hypo_mu = np.linspace(0, 20, num=51)\n",
    "hypo_mu"
   ]
  },
  {
   "cell_type": "markdown",
   "metadata": {},
   "source": [
    "Initially `suite` represents the prior distribution of `mu`."
   ]
  },
  {
   "cell_type": "code",
   "execution_count": 30,
   "metadata": {},
   "outputs": [
    {
     "data": {
      "image/png": "[encoded data removed]",
      "text/plain": [
       "<Figure size 432x288 with 1 Axes>"
      ]
     },
     "metadata": {
      "needs_background": "light"
     },
     "output_type": "display_data"
    }
   ],
   "source": [
    "suite = Suite(hypo_mu)\n",
    "suite.normalize()\n",
    "suite.plot(label='prior')\n",
    "pdf_rate()"
   ]
  },
  {
   "cell_type": "markdown",
   "metadata": {},
   "source": [
    "Now we can update it with the data and plot the posterior."
   ]
  },
  {
   "cell_type": "code",
   "execution_count": 31,
   "metadata": {},
   "outputs": [
    {
     "data": {
      "image/png": "[encoded data removed]",
      "text/plain": [
       "<Figure size 432x288 with 1 Axes>"
      ]
     },
     "metadata": {
      "needs_background": "light"
     },
     "output_type": "display_data"
    }
   ],
   "source": [
    "suite.bayes_update(data=6, like_func=poisson_likelihood)\n",
    "suite.plot(label='posterior')\n",
    "pdf_rate()"
   ]
  },
  {
   "cell_type": "markdown",
   "metadata": {},
   "source": [
    "With a uniform prior, the posterior is the likelihood function, and the MAP is the value of `mu` that maximizes likelihood, which is the observed number of goals, 6.\n",
    "\n",
    "This result is probably not reasonable, because the prior was not reasonable."
   ]
  },
  {
   "cell_type": "markdown",
   "metadata": {},
   "source": [
    "## A better prior\n",
    "\n",
    "To construct a better prior, I'll use scores from previous Stanley Cup finals to estimate the parameters of a gamma distribution.\n",
    "\n",
    "Why gamma?  You'll see.\n",
    "\n",
    "Here are (total goals)/(number of games) for both teams from 2013 to 2017, not including games that went into overtime. "
   ]
  },
  {
   "cell_type": "code",
   "execution_count": 32,
   "metadata": {},
   "outputs": [
    {
     "data": {
      "text/plain": [
       "[2.1666666666666665,\n",
       " 3.1666666666666665,\n",
       " 2.0,\n",
       " 1.0,\n",
       " 1.6666666666666667,\n",
       " 2.1666666666666665,\n",
       " 1.0,\n",
       " 2.0,\n",
       " 1.6666666666666667,\n",
       " 2.0]"
      ]
     },
     "execution_count": 32,
     "metadata": {},
     "output_type": "execute_result"
    }
   ],
   "source": [
    "xs = [13/6, 19/6, 8/4, 4/4, 10/6, 13/6, 2/2, 4/2, 5/3, 6/3]"
   ]
  },
  {
   "cell_type": "markdown",
   "metadata": {},
   "source": [
    "If those values were sampled from a gamma distribution, we can estimate its parameters, `k` and `theta`."
   ]
  },
  {
   "cell_type": "code",
   "execution_count": 33,
   "metadata": {},
   "outputs": [],
   "source": [
    "def estimate_gamma_params(xs):\n",
    "    \"\"\"Estimate the parameters of a gamma distribution.\n",
    "    \n",
    "    See https://en.wikipedia.org/wiki/Gamma_distribution#Parameter_estimation\n",
    "    \"\"\"\n",
    "    s = np.log(np.mean(xs)) - np.mean(np.log(xs))\n",
    "    k = (3 - s + np.sqrt((s-3)**2 + 24*s)) / 12 / s\n",
    "    theta = np.mean(xs) / k\n",
    "    alpha = k\n",
    "    beta = 1 / theta\n",
    "    return alpha, beta"
   ]
  },
  {
   "cell_type": "markdown",
   "metadata": {},
   "source": [
    "Here are the estimates."
   ]
  },
  {
   "cell_type": "code",
   "execution_count": 34,
   "metadata": {},
   "outputs": [
    {
     "name": "stdout",
     "output_type": "stream",
     "text": [
      "9.590040427964036 5.092056864405683\n"
     ]
    }
   ],
   "source": [
    "alpha, beta = estimate_gamma_params(xs)\n",
    "print(alpha, beta)"
   ]
  },
  {
   "cell_type": "markdown",
   "metadata": {},
   "source": [
    "The following function takes `alpha` and `beta` and returns a \"frozen\" distribution from SciPy's stats module:"
   ]
  },
  {
   "cell_type": "code",
   "execution_count": 35,
   "metadata": {},
   "outputs": [],
   "source": [
    "def make_gamma_dist(alpha, beta):\n",
    "    \"\"\"Returns a frozen distribution with given parameters.\n",
    "    \"\"\"\n",
    "    return st.gamma(a=alpha, scale=1/beta)"
   ]
  },
  {
   "cell_type": "markdown",
   "metadata": {},
   "source": [
    "The frozen distribution knows how to compute its mean and standard deviation:"
   ]
  },
  {
   "cell_type": "code",
   "execution_count": 36,
   "metadata": {},
   "outputs": [
    {
     "name": "stdout",
     "output_type": "stream",
     "text": [
      "1.883333333333333 0.6081587702831356\n"
     ]
    }
   ],
   "source": [
    "dist = make_gamma_dist(alpha, beta)\n",
    "print(dist.mean(), dist.std())"
   ]
  },
  {
   "cell_type": "markdown",
   "metadata": {},
   "source": [
    "And it can compute its PDF."
   ]
  },
  {
   "cell_type": "code",
   "execution_count": 37,
   "metadata": {},
   "outputs": [
    {
     "data": {
      "text/plain": [
       "array([0.00000000e+00, 6.38558824e-08, 1.47882071e-05, 2.89335244e-04,\n",
       "       2.05818741e-03, 8.41008968e-03, 2.42005653e-02, 5.46708620e-02,\n",
       "       1.03457950e-01, 1.71009756e-01, 2.54058869e-01, 3.46221457e-01,\n",
       "       4.39353435e-01, 5.25141940e-01, 5.96484573e-01, 6.48394461e-01,\n",
       "       6.78362677e-01, 6.86251605e-01, 6.73866305e-01, 6.44365210e-01,\n",
       "       6.01647333e-01, 5.49811363e-01, 4.92738384e-01, 4.33813676e-01,\n",
       "       3.75777888e-01, 3.20683656e-01, 2.69928462e-01, 2.24335393e-01,\n",
       "       1.84257838e-01, 1.49689963e-01, 1.20370713e-01, 9.58741574e-02,\n",
       "       7.56829865e-02, 5.92447692e-02, 4.60123559e-02, 3.54707493e-02,\n",
       "       2.71531125e-02, 2.06485333e-02, 1.56038850e-02, 1.17217339e-02,\n",
       "       8.75583226e-03, 6.50534975e-03, 4.80865843e-03, 3.53721739e-03,\n",
       "       2.58989044e-03, 1.88787645e-03, 1.37032322e-03, 9.90624353e-04,\n",
       "       7.13355115e-04, 5.11779658e-04, 3.65852616e-04, 2.60637420e-04,\n",
       "       1.85068625e-04, 1.30993248e-04, 9.24350534e-05, 6.50346646e-05,\n",
       "       4.56267621e-05, 3.19230663e-05, 2.22762016e-05, 1.55048845e-05,\n",
       "       1.07652488e-05, 7.45664014e-06, 5.15299332e-06, 3.55308296e-06,\n",
       "       2.44461832e-06, 1.67844019e-06, 1.15005230e-06, 7.86453021e-07,\n",
       "       5.36780624e-07, 3.65690768e-07, 2.48683805e-07, 1.68818324e-07,\n",
       "       1.14406721e-07, 7.74040680e-08, 5.22848551e-08, 3.52619808e-08,\n",
       "       2.37451120e-08, 1.59659882e-08, 1.07198354e-08, 7.18732361e-09,\n",
       "       4.81225325e-09, 3.21770923e-09, 2.14870341e-09, 1.43301682e-09,\n",
       "       9.54518898e-10, 6.35022369e-10, 4.21965684e-10, 2.80066266e-10,\n",
       "       1.85674197e-10, 1.22959061e-10, 8.13389408e-11, 5.37496810e-11,\n",
       "       3.54815628e-11, 2.33985422e-11, 1.54149991e-11, 1.01455589e-11,\n",
       "       6.67106332e-12, 4.38237291e-12, 2.87625299e-12, 1.88606377e-12,\n",
       "       1.23567713e-12])"
      ]
     },
     "execution_count": 37,
     "metadata": {},
     "output_type": "execute_result"
    }
   ],
   "source": [
    "hypo_mu = np.linspace(0, 10, num=101)\n",
    "ps = dist.pdf(hypo_mu)"
   ]
  },
  {
   "cell_type": "code",
   "execution_count": 38,
   "metadata": {},
   "outputs": [
    {
     "data": {
      "image/png": "[encoded data removed]",
      "text/plain": [
       "<Figure size 432x288 with 1 Axes>"
      ]
     },
     "metadata": {
      "needs_background": "light"
     },
     "output_type": "display_data"
    }
   ],
   "source": [
    "plot(hypo_mu, ps, label='gamma(9.6, 5.1)')\n",
    "pdf_rate()"
   ]
  },
  {
   "cell_type": "markdown",
   "metadata": {},
   "source": [
    "We can use `make_gamma_dist` to construct a prior suite with the given parameters."
   ]
  },
  {
   "cell_type": "code",
   "execution_count": 39,
   "metadata": {},
   "outputs": [],
   "source": [
    "def make_gamma_suite(xs, alpha, beta):\n",
    "    \"\"\"Makes a suite based on a gamma distribution.\n",
    "    \n",
    "    xs: places to evaluate the PDF\n",
    "    alpha, beta: parameters of the distribution\n",
    "    \n",
    "    returns: Suite\n",
    "    \"\"\"\n",
    "    dist = make_gamma_dist(alpha, beta)\n",
    "    ps = dist.pdf(xs)\n",
    "    prior = Suite(dict(zip(xs, ps)))\n",
    "    prior.normalize()\n",
    "    return prior"
   ]
  },
  {
   "cell_type": "markdown",
   "metadata": {},
   "source": [
    "Here's what it looks like."
   ]
  },
  {
   "cell_type": "code",
   "execution_count": 40,
   "metadata": {},
   "outputs": [
    {
     "data": {
      "image/png": "[encoded data removed]",
      "text/plain": [
       "<Figure size 432x288 with 1 Axes>"
      ]
     },
     "metadata": {
      "needs_background": "light"
     },
     "output_type": "display_data"
    }
   ],
   "source": [
    "prior = make_gamma_suite(hypo_mu, alpha, beta)\n",
    "\n",
    "prior.plot(label='gamma prior')\n",
    "pdf_rate()"
   ]
  },
  {
   "cell_type": "markdown",
   "metadata": {},
   "source": [
    "And we can update this prior using the observed data."
   ]
  },
  {
   "cell_type": "code",
   "execution_count": 41,
   "metadata": {},
   "outputs": [
    {
     "data": {
      "image/png": "[encoded data removed]",
      "text/plain": [
       "<Figure size 432x288 with 1 Axes>"
      ]
     },
     "metadata": {
      "needs_background": "light"
     },
     "output_type": "display_data"
    }
   ],
   "source": [
    "posterior = prior.copy()\n",
    "posterior.bayes_update(data=6, like_func=poisson_likelihood)\n",
    "\n",
    "prior.plot(label='prior')\n",
    "posterior.plot(label='posterior')\n",
    "pdf_rate()"
   ]
  },
  {
   "cell_type": "markdown",
   "metadata": {},
   "source": [
    "The results are substantially different from what we got with the uniform prior."
   ]
  },
  {
   "cell_type": "code",
   "execution_count": 42,
   "metadata": {},
   "outputs": [
    {
     "ename": "NameError",
     "evalue": "name 'COLORS' is not defined",
     "output_type": "error",
     "traceback": [
      "\u001b[0;31m---------------------------------------------------------------------------\u001b[0m",
      "\u001b[0;31mNameError\u001b[0m                                 Traceback (most recent call last)",
      "\u001b[0;32m<ipython-input-42-39a77c1d68e0>\u001b[0m in \u001b[0;36m<module>\u001b[0;34m\u001b[0m\n\u001b[1;32m      1\u001b[0m \u001b[0msuite\u001b[0m\u001b[0;34m.\u001b[0m\u001b[0mplot\u001b[0m\u001b[0;34m(\u001b[0m\u001b[0mlabel\u001b[0m\u001b[0;34m=\u001b[0m\u001b[0;34m'posterior with uniform prior'\u001b[0m\u001b[0;34m,\u001b[0m \u001b[0mcolor\u001b[0m\u001b[0;34m=\u001b[0m\u001b[0;34m'gray'\u001b[0m\u001b[0;34m)\u001b[0m\u001b[0;34m\u001b[0m\u001b[0;34m\u001b[0m\u001b[0m\n\u001b[0;32m----> 2\u001b[0;31m \u001b[0mposterior\u001b[0m\u001b[0;34m.\u001b[0m\u001b[0mplot\u001b[0m\u001b[0;34m(\u001b[0m\u001b[0mlabel\u001b[0m\u001b[0;34m=\u001b[0m\u001b[0;34m'posterior with gamma prior'\u001b[0m\u001b[0;34m,\u001b[0m \u001b[0mcolor\u001b[0m\u001b[0;34m=\u001b[0m\u001b[0mCOLORS\u001b[0m\u001b[0;34m[\u001b[0m\u001b[0;36m1\u001b[0m\u001b[0;34m]\u001b[0m\u001b[0;34m)\u001b[0m\u001b[0;34m\u001b[0m\u001b[0;34m\u001b[0m\u001b[0m\n\u001b[0m\u001b[1;32m      3\u001b[0m \u001b[0mpdf_rate\u001b[0m\u001b[0;34m(\u001b[0m\u001b[0;34m)\u001b[0m\u001b[0;34m\u001b[0m\u001b[0;34m\u001b[0m\u001b[0m\n",
      "\u001b[0;31mNameError\u001b[0m: name 'COLORS' is not defined"
     ]
    },
    {
     "data": {
      "image/png": "[encoded data removed]",
      "text/plain": [
       "<Figure size 432x288 with 1 Axes>"
      ]
     },
     "metadata": {
      "needs_background": "light"
     },
     "output_type": "display_data"
    }
   ],
   "source": [
    "suite.plot(label='posterior with uniform prior', color='gray')\n",
    "posterior.plot(label='posterior with gamma prior', color=COLORS[1])\n",
    "pdf_rate()"
   ]
  },
  {
   "cell_type": "markdown",
   "metadata": {},
   "source": [
    "Suppose the same team plays again and scores 2 goals in the second game.  We can perform a second update using the posterior from the first update as the prior for the second."
   ]
  },
  {
   "cell_type": "code",
   "execution_count": null,
   "metadata": {},
   "outputs": [],
   "source": [
    "posterior2 = posterior.copy()\n",
    "posterior2.bayes_update(data=2, like_func=poisson_likelihood)\n",
    "\n",
    "prior.plot(label='prior')\n",
    "posterior.plot(label='posterior')\n",
    "posterior2.plot(label='posterior2')\n",
    "pdf_rate()"
   ]
  },
  {
   "cell_type": "markdown",
   "metadata": {},
   "source": [
    "Or, starting with the original prior, we can update with both pieces of data at the same time."
   ]
  },
  {
   "cell_type": "code",
   "execution_count": null,
   "metadata": {},
   "outputs": [],
   "source": [
    "posterior3 = prior.copy()\n",
    "posterior3.bayes_update(data=[6, 2], like_func=poisson_likelihood)\n",
    "\n",
    "prior.plot(label='prior')\n",
    "posterior.plot(label='posterior')\n",
    "posterior2.plot(label='posterior2')\n",
    "posterior3.plot(label='posterior3', linestyle='dashed')\n",
    "pdf_rate()"
   ]
  },
  {
   "cell_type": "markdown",
   "metadata": {},
   "source": [
    "## Update using conjugate priors\n",
    "\n",
    "I'm using a gamma distribution as a prior in part because it has a shape that seems credible based on what I know about hockey.\n",
    "\n",
    "But it is also useful because it happens to be the conjugate prior of the Poisson distribution, which means that if the prior is gamma and we update with a Poisson likelihood function, the posterior is also gamma.\n",
    "\n",
    "See https://en.wikipedia.org/wiki/Conjugate_prior#Discrete_distributions\n",
    "\n",
    "And often we can compute the parameters of the posterior with very little computation.  If we observe `x` goals in `1` game, the new parameters are `alpha+x` and `beta+1`."
   ]
  },
  {
   "cell_type": "code",
   "execution_count": null,
   "metadata": {},
   "outputs": [],
   "source": [
    "class GammaSuite:\n",
    "    \"\"\"Represents a gamma conjugate prior/posterior.\"\"\"\n",
    "    \n",
    "    def __init__(self, alpha, beta):\n",
    "        \"\"\"Initialize.\n",
    "        \n",
    "        alpha, beta: parameters\n",
    "        dist: frozen distribution from scipy.stats\n",
    "        \"\"\"\n",
    "        self.alpha = alpha\n",
    "        self.beta = beta\n",
    "        self.dist = make_gamma_dist(alpha, beta)\n",
    "    \n",
    "    def plot(self, xs, **options):\n",
    "        \"\"\"Plot the suite.\n",
    "        \n",
    "        xs: locations where we should evaluate the PDF.\n",
    "        \"\"\"\n",
    "        ps = self.dist.pdf(xs)\n",
    "        ps /= np.sum(ps)\n",
    "        plot(xs, ps, **options)\n",
    "        \n",
    "    def bayes_update(self, data):\n",
    "        return GammaSuite(self.alpha+data, self.beta+1)"
   ]
  },
  {
   "cell_type": "markdown",
   "metadata": {},
   "source": [
    "Here's what the prior looks like using a `GammaSuite`:"
   ]
  },
  {
   "cell_type": "code",
   "execution_count": null,
   "metadata": {},
   "outputs": [],
   "source": [
    "gamma_prior = GammaSuite(alpha, beta)\n",
    "gamma_prior.plot(hypo_mu, label='prior')\n",
    "pdf_rate()\n",
    "gamma_prior.dist.mean()"
   ]
  },
  {
   "cell_type": "markdown",
   "metadata": {},
   "source": [
    "And here's the posterior after one update."
   ]
  },
  {
   "cell_type": "code",
   "execution_count": null,
   "metadata": {},
   "outputs": [],
   "source": [
    "gamma_posterior = gamma_prior.bayes_update(6)\n",
    "\n",
    "gamma_prior.plot(hypo_mu, label='prior')\n",
    "gamma_posterior.plot(hypo_mu, label='posterior')\n",
    "pdf_rate()\n",
    "gamma_posterior.dist.mean()"
   ]
  },
  {
   "cell_type": "markdown",
   "metadata": {},
   "source": [
    "And we can confirm that the posterior we get using the conjugate prior is the same as the one we got using a grid approximation."
   ]
  },
  {
   "cell_type": "code",
   "execution_count": null,
   "metadata": {},
   "outputs": [],
   "source": [
    "gamma_prior.plot(hypo_mu, label='prior')\n",
    "gamma_posterior.plot(hypo_mu, label='posterior conjugate')\n",
    "posterior.plot(label='posterior grid', linestyle='dashed')\n",
    "pdf_rate()"
   ]
  },
  {
   "cell_type": "markdown",
   "metadata": {},
   "source": [
    "## Posterior predictive distribution\n",
    "\n",
    "Ok, let's get to what is usually the point of this whole exercise, making predictions.\n",
    "\n",
    "The prior represents what we believe about the distribution of `mu` based on the data (and our prior beliefs).\n",
    "\n",
    "Each value of `mu` is a possible goal scoring rate.\n",
    "\n",
    "For a given value of `mu`, we can generate a distribution of goals scored in a particular game, which is Poisson.\n",
    "\n",
    "But we don't have a given value of `mu`, we have a whole bunch of values for `mu`, with different probabilities.\n",
    "\n",
    "So the posterior predictive distribution is a mixture of Poissons with different weights.\n",
    "\n",
    "The simplest way to generate the posterior predictive distribution is to\n",
    "\n",
    "1. Draw a random `mu` from the posterior distribution.\n",
    "\n",
    "2. Draw a random number of goals from `Poisson(mu)`.\n",
    "\n",
    "3. Repeat.\n",
    "\n",
    "Here's a function that draws a sample from a posterior `Suite` (the grid approximation, not `GammaSuite`)."
   ]
  },
  {
   "cell_type": "code",
   "execution_count": null,
   "metadata": {},
   "outputs": [],
   "source": [
    "def sample_suite(suite, size):\n",
    "    \"\"\"Draw a random sample from a Suite\n",
    "    \n",
    "    suite: Suite object\n",
    "    size: sample size\n",
    "    \"\"\"\n",
    "    xs, ps = zip(*suite.items())\n",
    "    return np.random.choice(xs, size, replace=True, p=ps)"
   ]
  },
  {
   "cell_type": "markdown",
   "metadata": {},
   "source": [
    "Here's a sample of `mu` drawn from the posterior distribution (after one game)."
   ]
  },
  {
   "cell_type": "code",
   "execution_count": null,
   "metadata": {},
   "outputs": [],
   "source": [
    "size = 10000\n",
    "sample_post = sample_suite(posterior, size)\n",
    "np.mean(sample_post)"
   ]
  },
  {
   "cell_type": "markdown",
   "metadata": {},
   "source": [
    "Here's what the posterior distribution looks like."
   ]
  },
  {
   "cell_type": "code",
   "execution_count": null,
   "metadata": {},
   "outputs": [],
   "source": [
    "plot_cdf(sample_post, label='posterior sample')\n",
    "cdf_rates()"
   ]
  },
  {
   "cell_type": "markdown",
   "metadata": {},
   "source": [
    "Now for each value of `mu` in the posterior sample we draw one sample from `Poisson(mu)`"
   ]
  },
  {
   "cell_type": "code",
   "execution_count": null,
   "metadata": {},
   "outputs": [],
   "source": [
    "sample_post_pred = np.random.poisson(sample_post)\n",
    "np.mean(sample_post_pred)"
   ]
  },
  {
   "cell_type": "markdown",
   "metadata": {},
   "source": [
    "Here's what the posterior predictive distribution looks like."
   ]
  },
  {
   "cell_type": "code",
   "execution_count": null,
   "metadata": {},
   "outputs": [],
   "source": [
    "plot_pmf(sample_post_pred, label='posterior predictive sample')\n",
    "pmf_goals()"
   ]
  },
  {
   "cell_type": "markdown",
   "metadata": {},
   "source": [
    "## Posterior prediction done wrong\n",
    "\n",
    "The posterior predictive distribution represents uncertainty from two sources:\n",
    "\n",
    "1. We don't know `mu`\n",
    "\n",
    "2. Even if we knew `mu`, we would not know the score of the next game.\n",
    "\n",
    "It is tempting, but wrong, to generate a posterior prediction by taking the mean of the posterior distribution and drawing samples from `Poisson(mu)` with just a single value of `mu`.\n",
    "\n",
    "That's wrong because it eliminates one of our sources of uncertainty.\n",
    "\n",
    "Here's an example:"
   ]
  },
  {
   "cell_type": "code",
   "execution_count": null,
   "metadata": {},
   "outputs": [],
   "source": [
    "mu_mean = np.mean(sample_post)\n",
    "sample_post_pred_wrong = np.random.poisson(mu_mean, size)\n",
    "np.mean(sample_post_pred_wrong)"
   ]
  },
  {
   "cell_type": "markdown",
   "metadata": {},
   "source": [
    "Here's what the samples looks like:"
   ]
  },
  {
   "cell_type": "code",
   "execution_count": null,
   "metadata": {},
   "outputs": [],
   "source": [
    "plot_cdf(sample_post_pred, label='posterior predictive sample')\n",
    "plot_cdf(sample_post_pred_wrong, label='incorrect posterior predictive')\n",
    "cdf_goals()"
   ]
  },
  {
   "cell_type": "markdown",
   "metadata": {},
   "source": [
    "In the incorrect predictive sample, low values and high values are slightly less likely.\n",
    "\n",
    "The means are about the same:"
   ]
  },
  {
   "cell_type": "code",
   "execution_count": null,
   "metadata": {},
   "outputs": [],
   "source": [
    "print(np.mean(sample_post_pred), np.mean(sample_post_pred_wrong))"
   ]
  },
  {
   "cell_type": "markdown",
   "metadata": {},
   "source": [
    "But the standard deviation of the incorrect distribution is lower."
   ]
  },
  {
   "cell_type": "code",
   "execution_count": null,
   "metadata": {},
   "outputs": [],
   "source": [
    "print(np.std(sample_post_pred), np.std(sample_post_pred_wrong))"
   ]
  },
  {
   "cell_type": "markdown",
   "metadata": {},
   "source": [
    "## Abusing PyMC\n",
    "\n",
    "Ok, we are almost ready to use PyMC for its intended purpose, but first we are going to abuse it a little more.\n",
    "\n",
    "Previously we used PyMC to draw a sample from a Poisson distribution with known `mu`.\n",
    "\n",
    "Now we'll use it to draw a sample from the prior distribution of `mu`, with known `alpha` and `beta`.\n",
    "\n",
    "We still have the values I estimated based on previous playoff finals:"
   ]
  },
  {
   "cell_type": "code",
   "execution_count": null,
   "metadata": {},
   "outputs": [],
   "source": [
    "print(alpha, beta)"
   ]
  },
  {
   "cell_type": "markdown",
   "metadata": {},
   "source": [
    "Now we can draw a sample from the prior predictive distribution:"
   ]
  },
  {
   "cell_type": "code",
   "execution_count": null,
   "metadata": {},
   "outputs": [],
   "source": [
    "model = pm.Model()\n",
    "\n",
    "with model:\n",
    "    mu = pm.Gamma('mu', alpha, beta)\n",
    "    trace = pm.sample_prior_predictive(1000)"
   ]
  },
  {
   "cell_type": "markdown",
   "metadata": {},
   "source": [
    "This might not be a sensible way to use PyMC.  If we just want to sample from the prior predictive distribution, we could use NumPy or SciPy just as well.  We're doing this to develop and test the model incrementally.\n",
    "\n",
    "So let's see if the sample looks right."
   ]
  },
  {
   "cell_type": "code",
   "execution_count": null,
   "metadata": {},
   "outputs": [],
   "source": [
    "sample_prior_pm = trace['mu']\n",
    "np.mean(sample_prior_pm)"
   ]
  },
  {
   "cell_type": "code",
   "execution_count": null,
   "metadata": {},
   "outputs": [],
   "source": [
    "sample_prior = sample_suite(prior, 2000)\n",
    "np.mean(sample_prior)"
   ]
  },
  {
   "cell_type": "code",
   "execution_count": null,
   "metadata": {},
   "outputs": [],
   "source": [
    "plot_cdf(sample_prior, label='prior')\n",
    "plot_cdf(sample_prior_pm, label='prior pymc')\n",
    "cdf_rates()"
   ]
  },
  {
   "cell_type": "markdown",
   "metadata": {},
   "source": [
    "It looks pretty good (although not actually as close as I expected)."
   ]
  },
  {
   "cell_type": "markdown",
   "metadata": {},
   "source": [
    "Now let's extend the model to sample from the prior predictive distribution.  This is still a silly way to do it, but it is one more step toward inference."
   ]
  },
  {
   "cell_type": "code",
   "execution_count": null,
   "metadata": {},
   "outputs": [],
   "source": [
    "model = pm.Model()\n",
    "\n",
    "with model:\n",
    "    mu = pm.Gamma('mu', alpha, beta)\n",
    "    goals = pm.Poisson('goals', mu, observed=[6])\n",
    "    trace = pm.sample_prior_predictive(2000)"
   ]
  },
  {
   "cell_type": "markdown",
   "metadata": {},
   "source": [
    "Let's see how the results compare with a sample from the prior predictive distribution, generated by plain old NumPy."
   ]
  },
  {
   "cell_type": "code",
   "execution_count": null,
   "metadata": {},
   "outputs": [],
   "source": [
    "sample_prior_pred_pm = trace['goals'].flatten()\n",
    "np.mean(sample_prior_pred_pm)"
   ]
  },
  {
   "cell_type": "code",
   "execution_count": null,
   "metadata": {},
   "outputs": [],
   "source": [
    "sample_prior_pred = np.random.poisson(sample_prior)\n",
    "np.mean(sample_prior_pred)"
   ]
  },
  {
   "cell_type": "markdown",
   "metadata": {},
   "source": [
    "Looks good."
   ]
  },
  {
   "cell_type": "code",
   "execution_count": null,
   "metadata": {},
   "outputs": [],
   "source": [
    "plot_cdf(sample_prior_pred, label='prior pred')\n",
    "plot_cdf(sample_prior_pred_pm, label='prior pred pymc')\n",
    "cdf_goals()"
   ]
  },
  {
   "cell_type": "markdown",
   "metadata": {},
   "source": [
    "## Using PyMC\n",
    "\n",
    "Finally, we are ready to use PyMC for actual inference.  We just have to make one small change.\n",
    "\n",
    "Instead of generating `goals`, we'll mark goals as `observed` and provide the observed data, `6`:"
   ]
  },
  {
   "cell_type": "code",
   "execution_count": null,
   "metadata": {},
   "outputs": [],
   "source": [
    "model = pm.Model()\n",
    "\n",
    "with model:\n",
    "    mu = pm.Gamma('mu', alpha, beta)\n",
    "    goals = pm.Poisson('goals', mu, observed=[6])\n",
    "    trace = pm.sample(2000, tune=1000)"
   ]
  },
  {
   "cell_type": "markdown",
   "metadata": {},
   "source": [
    "With `goals` fixed, the only unknown is `mu`, so `trace` contains a sample drawn from the posterior distribution of `mu`.  We can plot the posterior using a function provided by PyMC:"
   ]
  },
  {
   "cell_type": "code",
   "execution_count": null,
   "metadata": {},
   "outputs": [],
   "source": [
    "pm.plot_posterior(trace)\n",
    "pdf_rate()"
   ]
  },
  {
   "cell_type": "markdown",
   "metadata": {},
   "source": [
    "And we can extract a sample from the posterior of `mu`"
   ]
  },
  {
   "cell_type": "code",
   "execution_count": null,
   "metadata": {},
   "outputs": [],
   "source": [
    "sample_post_pm = trace['mu']\n",
    "np.mean(sample_post_pm)"
   ]
  },
  {
   "cell_type": "markdown",
   "metadata": {},
   "source": [
    "And compare it to the sample we drew from the grid approximation:"
   ]
  },
  {
   "cell_type": "code",
   "execution_count": null,
   "metadata": {},
   "outputs": [],
   "source": [
    "plot_cdf(sample_post, label='posterior grid')\n",
    "plot_cdf(sample_post_pm, label='posterior pymc')\n",
    "cdf_rates()"
   ]
  },
  {
   "cell_type": "markdown",
   "metadata": {},
   "source": [
    "Again, it looks pretty good.\n",
    "\n",
    "To generate a posterior predictive distribution, we can use `sample_posterior_predictive`"
   ]
  },
  {
   "cell_type": "code",
   "execution_count": null,
   "metadata": {},
   "outputs": [],
   "source": [
    "with model:\n",
    "    post_pred = pm.sample_posterior_predictive(trace, samples=2000)"
   ]
  },
  {
   "cell_type": "markdown",
   "metadata": {},
   "source": [
    "Here's what it looks like:"
   ]
  },
  {
   "cell_type": "code",
   "execution_count": null,
   "metadata": {},
   "outputs": [],
   "source": [
    "sample_post_pred_pm = post_pred['goals'].flatten()\n",
    "sample_post_pred_pm.shape"
   ]
  },
  {
   "cell_type": "code",
   "execution_count": null,
   "metadata": {},
   "outputs": [],
   "source": [
    "sample_post_pred_pm = post_pred['goals']\n",
    "np.mean(sample_post_pred_pm)"
   ]
  },
  {
   "cell_type": "code",
   "execution_count": null,
   "metadata": {},
   "outputs": [],
   "source": [
    "plot_cdf(sample_post_pred, label='posterior pred grid')\n",
    "plot_cdf(sample_post_pred_pm, label='posterior pred pm')\n",
    "cdf_goals()"
   ]
  },
  {
   "cell_type": "markdown",
   "metadata": {},
   "source": [
    "Look's pretty good!"
   ]
  },
  {
   "cell_type": "markdown",
   "metadata": {},
   "source": [
    "## Going hierarchical\n",
    "\n",
    "So far, all of this is based on a gamma prior.  To choose the parameters of the prior, I used data from previous Stanley Cup finals and computed a maximum likelihood estimate (MLE).  But that's not correct, because\n",
    "\n",
    "1. It assumes that the observed goal counts are the long-term goal-scoring rates.\n",
    "2. It treats `alpha` and `beta` as known values rather than parameters to estimate.\n",
    "\n",
    "In other words, I have ignored two important sources of uncertainty.  As a result, my predictions are almost certainly too confident.\n",
    "\n",
    "The solution is a hierarchical model, where `alpha` and `beta` are the parameters that control `mu` and `mu` is the parameter that controls `goals`.  Then we can use observed `goals` to update the distributions of all three unknown parameters.\n",
    "\n",
    "Of course, now we need a prior distribution for `alpha` and `beta`.  A common choice is the half Cauchy distribution (see [Gelman](http://www.stat.columbia.edu/~gelman/research/published/taumain.pdf)), but on advice of counsel, I'm going with exponential."
   ]
  },
  {
   "cell_type": "code",
   "execution_count": null,
   "metadata": {},
   "outputs": [],
   "source": [
    "sample = pm.Exponential.dist(lam=1).random(size=1000)\n",
    "plot_cdf(sample)\n",
    "plt.xscale('log')\n",
    "plt.xlabel('Parameter of a gamma distribution')\n",
    "plt.ylabel('CDF')\n",
    "np.mean(sample)"
   ]
  },
  {
   "cell_type": "markdown",
   "metadata": {},
   "source": [
    "This distribution represents radical uncertainty about the value of this distribution: it's probably between 0.1 and 10, but it could be really big or really small.\n",
    "\n",
    "Here's a PyMC model that generates `alpha` and `beta` from an exponential distribution."
   ]
  },
  {
   "cell_type": "code",
   "execution_count": null,
   "metadata": {},
   "outputs": [],
   "source": [
    "model = pm.Model()\n",
    "\n",
    "with model:\n",
    "    alpha = pm.Exponential('alpha', lam=1)\n",
    "    beta = pm.Exponential('beta', lam=1)\n",
    "    trace = pm.sample_prior_predictive(1000)"
   ]
  },
  {
   "cell_type": "markdown",
   "metadata": {},
   "source": [
    "Here's what the distributions of `alpha` and `beta` look like."
   ]
  },
  {
   "cell_type": "code",
   "execution_count": null,
   "metadata": {},
   "outputs": [],
   "source": [
    "sample_prior_alpha = trace['alpha']\n",
    "plot_cdf(sample_prior_alpha, label='alpha prior')\n",
    "sample_prior_beta = trace['beta']\n",
    "plot_cdf(sample_prior_beta, label='beta prior')\n",
    "\n",
    "plt.xscale('log')\n",
    "plt.xlabel('Parameter of a gamma distribution')\n",
    "plt.ylabel('CDF')\n",
    "np.mean(sample_prior_alpha)"
   ]
  },
  {
   "cell_type": "markdown",
   "metadata": {},
   "source": [
    "Now that we have `alpha` and `beta`, we can generate `mu`."
   ]
  },
  {
   "cell_type": "code",
   "execution_count": null,
   "metadata": {},
   "outputs": [],
   "source": [
    "model = pm.Model()\n",
    "\n",
    "with model:\n",
    "    alpha = pm.Exponential('alpha', lam=1)\n",
    "    beta = pm.Exponential('beta', lam=1)\n",
    "    mu = pm.Gamma('mu', alpha, beta)\n",
    "    trace = pm.sample_prior_predictive(1000)"
   ]
  },
  {
   "cell_type": "markdown",
   "metadata": {},
   "source": [
    "Here's what the prior distribution of `mu` looks like."
   ]
  },
  {
   "cell_type": "code",
   "execution_count": null,
   "metadata": {},
   "outputs": [],
   "source": [
    "sample_prior_mu = trace['mu']\n",
    "plot_cdf(sample_prior_mu, label='mu prior hierarchical')\n",
    "cdf_rates()\n",
    "np.mean(sample_prior_mu)"
   ]
  },
  {
   "cell_type": "markdown",
   "metadata": {},
   "source": [
    "In effect, the model is saying \"I have never seen a hockey game before.  As far as I know, it could be soccer, could be basketball, could be pinball.\"\n",
    "\n",
    "If we zoom in on the range 0 to 10, we can compare the prior implied by the hierarchical model with the gamma prior I hand picked."
   ]
  },
  {
   "cell_type": "code",
   "execution_count": null,
   "metadata": {},
   "outputs": [],
   "source": [
    "plot_cdf(sample_prior_mu, label='mu prior hierarchical')\n",
    "plot_cdf(sample_prior, label='mu prior', color='gray')\n",
    "plt.xlim(0, 10)\n",
    "cdf_rates()"
   ]
  },
  {
   "cell_type": "markdown",
   "metadata": {},
   "source": [
    "Obviously, they are very different.  They agree that the most likely values are less than 10, but the hierarchical model admits the possibility that `mu` could be orders of magnitude bigger.\n",
    "\n",
    "Crazy as it sounds, that's probably what we want in a non-committal prior.\n",
    "\n",
    "Ok, last step of the forward process, let's generate some goals."
   ]
  },
  {
   "cell_type": "code",
   "execution_count": null,
   "metadata": {},
   "outputs": [],
   "source": [
    "model = pm.Model()\n",
    "\n",
    "with model:\n",
    "    alpha = pm.Exponential('alpha', lam=1)\n",
    "    beta = pm.Exponential('beta', lam=1)\n",
    "    mu = pm.Gamma('mu', alpha, beta)\n",
    "    goals = pm.Poisson('goals', mu)\n",
    "    trace = pm.sample_prior_predictive(1000)"
   ]
  },
  {
   "cell_type": "markdown",
   "metadata": {},
   "source": [
    "Here's the prior predictive distribution of goals."
   ]
  },
  {
   "cell_type": "code",
   "execution_count": null,
   "metadata": {},
   "outputs": [],
   "source": [
    "sample_prior_goals = trace['goals']\n",
    "plot_cdf(sample_prior_goals, label='goals prior')\n",
    "cdf_goals()\n",
    "np.mean(sample_prior_goals)"
   ]
  },
  {
   "cell_type": "markdown",
   "metadata": {},
   "source": [
    "To see whether that distribution is right, I ran samples using SciPy."
   ]
  },
  {
   "cell_type": "code",
   "execution_count": null,
   "metadata": {},
   "outputs": [],
   "source": [
    "def forward_hierarchical(size=1):\n",
    "    alpha = st.expon().rvs(size=size)\n",
    "    beta = st.expon().rvs(size=size)\n",
    "    mu = st.gamma(a=alpha, scale=1/beta).rvs(size=size)\n",
    "    goals = st.poisson(mu).rvs(size=size)\n",
    "    return goals[0]\n",
    "\n",
    "sample_prior_goals_st = [forward_hierarchical() for i in range(1000)];"
   ]
  },
  {
   "cell_type": "code",
   "execution_count": null,
   "metadata": {},
   "outputs": [],
   "source": [
    "plot_cdf(sample_prior_goals, label='goals prior')\n",
    "plot_cdf(sample_prior_goals_st, label='goals prior scipy')\n",
    "cdf_goals()\n",
    "plt.xlim(0, 50)\n",
    "plt.legend(loc='lower right')\n",
    "np.mean(sample_prior_goals_st)"
   ]
  },
  {
   "cell_type": "markdown",
   "metadata": {},
   "source": [
    "## Hierarchical inference\n",
    "\n",
    "Once we have the forward process working, we only need a small change to run the reverse process."
   ]
  },
  {
   "cell_type": "code",
   "execution_count": null,
   "metadata": {},
   "outputs": [],
   "source": [
    "model = pm.Model()\n",
    "\n",
    "with model:\n",
    "    alpha = pm.Exponential('alpha', lam=1)\n",
    "    beta = pm.Exponential('beta', lam=1)\n",
    "    mu = pm.Gamma('mu', alpha, beta)\n",
    "    goals = pm.Poisson('goals', mu, observed=[6])\n",
    "    trace = pm.sample(1000, tune=2000, nuts_kwargs=dict(target_accept=0.99))"
   ]
  },
  {
   "cell_type": "markdown",
   "metadata": {},
   "source": [
    "Here's the posterior distribution of `mu`.  The posterior mean is close to the observed value, which is what we expect with a weakly informative prior."
   ]
  },
  {
   "cell_type": "code",
   "execution_count": null,
   "metadata": {},
   "outputs": [],
   "source": [
    "sample_post_mu = trace['mu']\n",
    "plot_cdf(sample_post_mu, label='mu posterior')\n",
    "cdf_rates()\n",
    "np.mean(sample_post_mu)"
   ]
  },
  {
   "cell_type": "markdown",
   "metadata": {},
   "source": [
    "## Two teams\n",
    "\n",
    "We can extend the model to estimate different values of `mu` for the two teams."
   ]
  },
  {
   "cell_type": "code",
   "execution_count": null,
   "metadata": {},
   "outputs": [],
   "source": [
    "model = pm.Model()\n",
    "\n",
    "with model:\n",
    "    alpha = pm.Exponential('alpha', lam=1)\n",
    "    beta = pm.Exponential('beta', lam=1)\n",
    "    mu_VGK = pm.Gamma('mu_VGK', alpha, beta)\n",
    "    mu_WSH = pm.Gamma('mu_WSH', alpha, beta)\n",
    "    goals_VGK = pm.Poisson('goals_VGK', mu_VGK, observed=[6])\n",
    "    goals_WSH = pm.Poisson('goals_WSH', mu_WSH, observed=[4])\n",
    "    trace = pm.sample(1000, tune=2000, nuts_kwargs=dict(target_accept=0.95))"
   ]
  },
  {
   "cell_type": "markdown",
   "metadata": {},
   "source": [
    "We can use `traceplot` to review the results and do some visual diagnostics."
   ]
  },
  {
   "cell_type": "code",
   "execution_count": null,
   "metadata": {},
   "outputs": [],
   "source": [
    "pm.traceplot(trace);"
   ]
  },
  {
   "cell_type": "markdown",
   "metadata": {},
   "source": [
    "Here are the posterior distribitions for `mu_WSH` and `mu_VGK`."
   ]
  },
  {
   "cell_type": "code",
   "execution_count": null,
   "metadata": {},
   "outputs": [],
   "source": [
    "sample_post_mu_WSH = trace['mu_WSH']\n",
    "plot_cdf(sample_post_mu_WSH, label='mu_WSH posterior')\n",
    "\n",
    "sample_post_mu_VGK = trace['mu_VGK']\n",
    "plot_cdf(sample_post_mu_VGK, label='mu_VGK posterior')\n",
    "\n",
    "cdf_rates()\n",
    "np.mean(sample_post_mu_WSH), np.mean(sample_post_mu_VGK)"
   ]
  },
  {
   "cell_type": "markdown",
   "metadata": {},
   "source": [
    "On the basis of one game (and never having seen a previous game), here's the probability that Vegas is the better team."
   ]
  },
  {
   "cell_type": "code",
   "execution_count": null,
   "metadata": {},
   "outputs": [],
   "source": [
    "np.mean(sample_post_mu_VGK > sample_post_mu_WSH)"
   ]
  },
  {
   "cell_type": "markdown",
   "metadata": {},
   "source": [
    "## More background\n",
    "\n",
    "But let's take advantage of more information.  Here are the results from the five most recent Stanley Cup finals, ignoring games that went into overtime."
   ]
  },
  {
   "cell_type": "code",
   "execution_count": null,
   "metadata": {},
   "outputs": [],
   "source": [
    "data = dict(BOS13 = [2, 1, 2],\n",
    "            CHI13 = [0, 3, 3],\n",
    "            NYR14 = [0, 2],\n",
    "            LAK14 = [3, 1],\n",
    "            TBL15 = [1, 4, 3, 1, 1, 0],\n",
    "            CHI15 = [2, 3, 2, 2, 2, 2],\n",
    "            SJS16 = [2, 1, 4, 1],\n",
    "            PIT16 = [3, 3, 2, 3],\n",
    "            NSH17 = [3, 1, 5, 4, 0, 0],\n",
    "            PIT17 = [5, 4, 1, 1, 6, 2],\n",
    "            VGK18 = [6,2,1],\n",
    "            WSH18 = [4,3,3],\n",
    "           )"
   ]
  },
  {
   "cell_type": "markdown",
   "metadata": {},
   "source": [
    "Here's how we can get the data into the model."
   ]
  },
  {
   "cell_type": "code",
   "execution_count": null,
   "metadata": {},
   "outputs": [],
   "source": [
    "model = pm.Model()\n",
    "\n",
    "with model:\n",
    "    alpha = pm.Exponential('alpha', lam=1)\n",
    "    beta = pm.Exponential('beta', lam=1)\n",
    "    \n",
    "    mu = dict()\n",
    "    goals = dict()\n",
    "    for name, observed in data.items():\n",
    "        mu[name] = pm.Gamma('mu_'+name, alpha, beta)\n",
    "        goals[name] = pm.Poisson(name, mu[name], observed=observed)\n",
    "        \n",
    "    trace = pm.sample(1000, tune=2000, nuts_kwargs=dict(target_accept=0.95))"
   ]
  },
  {
   "cell_type": "markdown",
   "metadata": {},
   "source": [
    "And here are the results."
   ]
  },
  {
   "cell_type": "code",
   "execution_count": null,
   "metadata": {
    "scrolled": false
   },
   "outputs": [],
   "source": [
    "pm.traceplot(trace);"
   ]
  },
  {
   "cell_type": "markdown",
   "metadata": {},
   "source": [
    "Here are the posterior means."
   ]
  },
  {
   "cell_type": "code",
   "execution_count": null,
   "metadata": {},
   "outputs": [],
   "source": [
    "sample_post_mu_VGK = trace['mu_VGK18']\n",
    "np.mean(sample_post_mu_VGK)"
   ]
  },
  {
   "cell_type": "code",
   "execution_count": null,
   "metadata": {},
   "outputs": [],
   "source": [
    "sample_post_mu_WSH = trace['mu_WSH18']\n",
    "np.mean(sample_post_mu_WSH)"
   ]
  },
  {
   "cell_type": "markdown",
   "metadata": {},
   "source": [
    "They are lower with the background information than without, and closer together.  Here's the updated chance that Vegas is the better team."
   ]
  },
  {
   "cell_type": "code",
   "execution_count": null,
   "metadata": {},
   "outputs": [],
   "source": [
    "np.mean(sample_post_mu_VGK > sample_post_mu_WSH)"
   ]
  },
  {
   "cell_type": "markdown",
   "metadata": {},
   "source": [
    "## Predictions\n",
    "\n",
    "Even if Vegas is the better team, that doesn't mean they'll win the next game.\n",
    "\n",
    "We can use `sample_posterior_predictive` to generate predictions."
   ]
  },
  {
   "cell_type": "code",
   "execution_count": null,
   "metadata": {},
   "outputs": [],
   "source": [
    "with model:\n",
    "    post_pred = pm.sample_posterior_predictive(trace, samples=1000)"
   ]
  },
  {
   "cell_type": "markdown",
   "metadata": {},
   "source": [
    "Here are the posterior predictive distributions of goals scored."
   ]
  },
  {
   "cell_type": "code",
   "execution_count": null,
   "metadata": {},
   "outputs": [],
   "source": [
    "WSH = post_pred['WSH18']\n",
    "WSH.shape"
   ]
  },
  {
   "cell_type": "code",
   "execution_count": null,
   "metadata": {},
   "outputs": [],
   "source": [
    "WSH = post_pred['WSH18'].flatten()\n",
    "VGK = post_pred['VGK18'].flatten()\n",
    "\n",
    "plot_cdf(WSH, label='WSH')\n",
    "plot_cdf(VGK, label='VGK')\n",
    "cdf_goals()"
   ]
  },
  {
   "cell_type": "markdown",
   "metadata": {},
   "source": [
    "Here's the chance that Vegas wins the next game."
   ]
  },
  {
   "cell_type": "code",
   "execution_count": null,
   "metadata": {},
   "outputs": [],
   "source": [
    "win = np.mean(VGK > WSH)\n",
    "win"
   ]
  },
  {
   "cell_type": "markdown",
   "metadata": {},
   "source": [
    "The chance that they lose."
   ]
  },
  {
   "cell_type": "code",
   "execution_count": null,
   "metadata": {},
   "outputs": [],
   "source": [
    "lose = np.mean(WSH > VGK)\n",
    "lose"
   ]
  },
  {
   "cell_type": "markdown",
   "metadata": {},
   "source": [
    "And the chance of a tie."
   ]
  },
  {
   "cell_type": "code",
   "execution_count": null,
   "metadata": {},
   "outputs": [],
   "source": [
    "tie = np.mean(WSH == VGK)\n",
    "tie"
   ]
  },
  {
   "cell_type": "markdown",
   "metadata": {},
   "source": [
    "## Overtime!\n",
    "\n",
    "In the playoffs, you play overtime periods until someone scores.  No stupid shootouts!\n",
    "\n",
    "In a Poisson process with rate parameter `mu`, the time until the next event is exponential with parameter `lam = 1/mu`.\n",
    "\n",
    "So we can take a sample from the posterior distributions of `mu`:"
   ]
  },
  {
   "cell_type": "code",
   "execution_count": null,
   "metadata": {},
   "outputs": [],
   "source": [
    "mu_VGK = trace['mu_VGK18']\n",
    "mu_WSH = trace['mu_WSH18']"
   ]
  },
  {
   "cell_type": "markdown",
   "metadata": {},
   "source": [
    "And generate time to score,`tts`, for each team:"
   ]
  },
  {
   "cell_type": "code",
   "execution_count": null,
   "metadata": {},
   "outputs": [],
   "source": [
    "tts_VGK  = np.random.exponential(1/mu_VGK)\n",
    "np.mean(tts_VGK)"
   ]
  },
  {
   "cell_type": "code",
   "execution_count": null,
   "metadata": {},
   "outputs": [],
   "source": [
    "tts_WSH  = np.random.exponential(1/mu_WSH)\n",
    "np.mean(tts_WSH)"
   ]
  },
  {
   "cell_type": "markdown",
   "metadata": {},
   "source": [
    "Here's the chance that Vegas wins in overtime."
   ]
  },
  {
   "cell_type": "code",
   "execution_count": null,
   "metadata": {},
   "outputs": [],
   "source": [
    "win_ot = np.mean(tts_VGK < tts_WSH)\n",
    "win_ot"
   ]
  },
  {
   "cell_type": "markdown",
   "metadata": {},
   "source": [
    "Since `tts` is continuous, ties are unlikely."
   ]
  },
  {
   "cell_type": "code",
   "execution_count": null,
   "metadata": {},
   "outputs": [],
   "source": [
    "total_win = win + tie * win_ot\n",
    "total_win"
   ]
  },
  {
   "cell_type": "markdown",
   "metadata": {},
   "source": [
    "Finally, we can simulate the rest of the series and compute the probability that Vegas wins the series."
   ]
  },
  {
   "cell_type": "code",
   "execution_count": null,
   "metadata": {},
   "outputs": [],
   "source": [
    "def flip(p):\n",
    "    \"\"\"Simulate a single game.\"\"\"\n",
    "    return np.random.random() < p"
   ]
  },
  {
   "cell_type": "code",
   "execution_count": null,
   "metadata": {},
   "outputs": [],
   "source": [
    "def series(wins, losses, p_win):\n",
    "    \"\"\"Simulate a series.\n",
    "    \n",
    "    wins: number of wins so far\n",
    "    losses: number of losses so far\n",
    "    p_win: probability that the team of interest wins a game\n",
    "    \n",
    "    returns: boolean, whether the team of interest wins the series\n",
    "    \"\"\"\n",
    "    while True:\n",
    "        if flip(p_win):\n",
    "            wins += 1\n",
    "        else:\n",
    "            losses += 1\n",
    "\n",
    "        if wins==4:\n",
    "            return True\n",
    "\n",
    "        if losses==4:\n",
    "            return False"
   ]
  },
  {
   "cell_type": "code",
   "execution_count": null,
   "metadata": {},
   "outputs": [],
   "source": [
    "series(1, 2, total_win)"
   ]
  },
  {
   "cell_type": "code",
   "execution_count": null,
   "metadata": {},
   "outputs": [],
   "source": [
    "t = [series(1, 2, total_win) for i in range(1000)]\n",
    "np.mean(t)"
   ]
  },
  {
   "cell_type": "code",
   "execution_count": null,
   "metadata": {},
   "outputs": [],
   "source": []
  }
 ],
 "metadata": {
  "kernelspec": {
   "display_name": "Python 3",
   "language": "python",
   "name": "python3"
  },
  "language_info": {
   "codemirror_mode": {
    "name": "ipython",
    "version": 3
   },
   "file_extension": ".py",
   "mimetype": "text/x-python",
   "name": "python",
   "nbconvert_exporter": "python",
   "pygments_lexer": "ipython3",
   "version": "3.7.2"
  }
 },
 "nbformat": 4,
 "nbformat_minor": 2
}
